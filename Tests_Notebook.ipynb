{
  "nbformat": 4,
  "nbformat_minor": 0,
  "metadata": {
    "colab": {
      "name": "Testing Prolexa Plus Notebook.ipynb",
      "provenance": [],
      "collapsed_sections": [],
      "include_colab_link": true
    },
    "kernelspec": {
      "display_name": "Python 3",
      "name": "python3"
    },
    "language_info": {
      "name": "python"
    }
  },
  "cells": [
    {
      "cell_type": "markdown",
      "metadata": {
        "id": "view-in-github",
        "colab_type": "text"
      },
      "source": [
        "<a href=\"https://colab.research.google.com/github/isabelladegen/ComputationalLogic/blob/prolexa-plus/Tests_Notebook.ipynb\" target=\"_parent\"><img src=\"https://colab.research.google.com/assets/colab-badge.svg\" alt=\"Open In Colab\"/></a>"
      ]
    },
    {
      "cell_type": "markdown",
      "metadata": {
        "id": "i0vSCAwPAleW"
      },
      "source": [
        "#Testing Notebook \n",
        "Notebook that makes sure Prolexa continues to work\n"
      ]
    },
    {
      "cell_type": "markdown",
      "metadata": {
        "id": "hij-_4uHAzIj"
      },
      "source": [
        "### Installations like demo notebook\n"
      ]
    },
    {
      "cell_type": "code",
      "metadata": {
        "id": "HDY7hKs490UH",
        "colab": {
          "base_uri": "https://localhost:8080/"
        },
        "outputId": "1ec1aaa0-c0fa-49f0-ea80-cceb94be6e9c"
      },
      "source": [
        "!apt-get install swi-prolog -qqq > /dev/null"
      ],
      "execution_count": 1,
      "outputs": [
        {
          "output_type": "stream",
          "name": "stdout",
          "text": [
            "Extracting templates from packages: 100%\n"
          ]
        }
      ]
    },
    {
      "cell_type": "markdown",
      "source": [
        "### Installing Prolexa\n",
        "Same error as on the branch on the forked branch https://github.com/simply-logical/ComputationalLogic/"
      ],
      "metadata": {
        "id": "XzTl4S4QtwnC"
      }
    },
    {
      "cell_type": "code",
      "metadata": {
        "id": "LGMiAYLm77DC",
        "colab": {
          "base_uri": "https://localhost:8080/"
        },
        "outputId": "1090dc6a-6561-4d5e-890e-061ffa4a700c"
      },
      "source": [
        "!yes | pip install git+https://github.com/isabelladegen/ComputationalLogic/ -qqq > /dev/null"
      ],
      "execution_count": 2,
      "outputs": [
        {
          "output_type": "stream",
          "name": "stdout",
          "text": [
            "\u001b[31m  ERROR: Failed building wheel for prolexa\u001b[0m\n",
            "\u001b[33m  DEPRECATION: prolexa was installed using the legacy 'setup.py install' method, because a wheel could not be built for it. A possible replacement is to fix the wheel build issue reported above. You can find discussion regarding this at https://github.com/pypa/pip/issues/8368.\u001b[0m\n",
            "\u001b[31mERROR: pip's dependency resolver does not currently take into account all the packages that are installed. This behaviour is the source of the following dependency conflicts.\n",
            "markdown 3.3.6 requires importlib-metadata>=4.4; python_version < \"3.10\", but you have importlib-metadata 3.10.1 which is incompatible.\n",
            "google-colab 1.0.0 requires requests~=2.23.0, but you have requests 2.26.0 which is incompatible.\n",
            "datascience 0.10.6 requires folium==0.2.1, but you have folium 0.8.3 which is incompatible.\u001b[0m\n"
          ]
        }
      ]
    },
    {
      "cell_type": "markdown",
      "metadata": {
        "id": "4Q1TuvlXBFpA"
      },
      "source": [
        "### Instantiate Prolexa \n"
      ]
    },
    {
      "cell_type": "code",
      "metadata": {
        "colab": {
          "base_uri": "https://localhost:8080/"
        },
        "id": "un81VxmqzUMx",
        "outputId": "82ec5925-1e34-463e-f88f-83973b99fb23"
      },
      "source": [
        "from pyswip import Prolog\n",
        "import prolexa.meta_grammar as meta\n",
        "\n",
        "pl = Prolog()\n",
        "meta.reset_grammar()\n",
        "meta.initialise_prolexa(pl)"
      ],
      "execution_count": 3,
      "outputs": [
        {
          "output_type": "stream",
          "name": "stdout",
          "text": [
            "2021-12-15 11:54:46,564 --------------------------------------------------------------------------------\n",
            "2021-12-15 11:54:46,565 The model key 'pos' now maps to 'https://huggingface.co/flair/pos-english' on the HuggingFace ModelHub\n",
            "2021-12-15 11:54:46,566  - The most current version of the model is automatically downloaded from there.\n",
            "2021-12-15 11:54:46,574  - (you can alternatively manually download the original model at https://nlp.informatik.hu-berlin.de/resources/models/pos/en-pos-ontonotes-v0.5.pt)\n",
            "2021-12-15 11:54:46,576 --------------------------------------------------------------------------------\n",
            "2021-12-15 11:54:47,361 loading file /root/.flair/models/pos-english/a9a73f6cd878edce8a0fa518db76f441f1cc49c2525b2b4557af278ec2f0659e.121306ea62993d04cd1978398b68396931a39eb47754c8a06a87f325ea70ac63\n"
          ]
        }
      ]
    },
    {
      "cell_type": "markdown",
      "source": [
        "###  Some Helper functions to make the tests easier to read"
      ],
      "metadata": {
        "id": "L2TcmLRB_CZB"
      }
    },
    {
      "cell_type": "code",
      "source": [
        "def query(input):\n",
        "  answer = meta.standardised_query(pl, input)[0]['Output']\n",
        "  if isinstance(answer, str):\n",
        "    return answer\n",
        "  return str(answer, 'utf-8')\n",
        "\n",
        "def test(input, expected_answer):\n",
        "  print(f'Query: {input}')\n",
        "  actual_answer = query(input)\n",
        "  assert actual_answer == expected_answer, 'Expected Answer:  ' + expected_answer + '\\n Actual answer: ' + actual_answer\n",
        "  print(f'Answer: {actual_answer}\\n')\n",
        "\n",
        "def cleanup():\n",
        "  print(query('forget everything'))\n",
        "  meta.reset_grammar()\n",
        "  meta.initialise_prolexa(pl)"
      ],
      "metadata": {
        "id": "biUdfuFgwwxd"
      },
      "execution_count": 4,
      "outputs": []
    },
    {
      "cell_type": "markdown",
      "metadata": {
        "id": "UsWtwSz2BX9l"
      },
      "source": [
        "### Testing existing functionality\n",
        "\n",
        "Syntax: `test(input_query, expected_answer)`\n",
        "\n",
        "Be careful not to add new nouns to Prolexa. The `forget all` method currently deletes all the rules about that noun but not the noun itself"
      ]
    },
    {
      "cell_type": "code",
      "metadata": {
        "id": "J-_HAtkIm19i",
        "colab": {
          "base_uri": "https://localhost:8080/"
        },
        "outputId": "d140d61b-d0a4-458d-e468-b105f4cc3310"
      },
      "source": [
        "#run before so no unexpected knowledge is haning about\n",
        "cleanup()\n",
        "\n",
        "#Tell me about... queries\n",
        "print(\"Test 'Tell me about...' queries:\\n\")\n",
        "test('Tell me all', 'every human is mortal. peter is human')\n",
        "test('tell me about unknownnoun', 'I heard you say,  tell me about unknownnoun , could you rephrase that please?')\n",
        "test('tell me about tweety', 'I know nothing about tweety')\n",
        "test('tell me about peter', 'peter is human. peter is mortal')\n",
        "\n",
        "#Is... queries\n",
        "print(\"\\nTest 'Is...' queries:\\n\")\n",
        "test('Is unkownnoun human', 'I heard you say,  Is unkownnoun human , could you rephrase that please?')\n",
        "test('Is tweety a bird', 'Sorry, I don\\'t think this is the case')\n",
        "test('Is peter mortal', 'peter is mortal')\n",
        "test('Is peter human', 'peter is human')\n",
        "test('Who is human', 'peter is human')\n",
        "test('Who is a bird', 'Sorry, I don\\'t think this is the case')\n",
        "test('Does tweety fly', 'Sorry, I don\\'t think this is the case')\n",
        "\n",
        "#Explain... queries\n",
        "print(\"\\nTest 'Is...' queries:\\n\")\n",
        "test('Explain why unknownnoun is mortal', 'I heard you say,  Explain why unknownnoun is mortal , could you rephrase that please?')\n",
        "test('Explain why tweety is a bird','Sorry, I don\\'t think this is the case')\n",
        "test('Explain why peter is mortal', 'peter is human; every human is mortal; therefore peter is mortal')\n",
        "\n",
        "#Adding new rules and forgeting rules\n",
        "print(\"\\nTest adding new rules:\\n\")\n",
        "test('Peter is mortal', 'I already knew that Peter is mortal')\n",
        "\n",
        "#add a rule and forget it again\n",
        "test('Tweety is a bird', 'I will remember that Tweety is a bird')\n",
        "test('Is tweety a bird', 'tweety is a bird')\n",
        "test('all birds fly', 'I will remember that all birds fly')\n",
        "test('Does tweety fly', 'tweety flies')\n",
        "test('Explain why tweety flies', 'tweety is a bird; every bird is a fly; therefore tweety is a fly') #notice the really odd transaltion <a fly>, the comandline does not do this\n",
        "test('Tell me all about tweety', 'tweety is a bird. tweety is a fly. tweety is a bird. tweety is a fly') #notice the duplication in answers!!!\n",
        "test('Forget that tweety is a bird', 'I erased it from my memory')\n",
        "test('tell me all about tweety', 'I know nothing about tweety')\n",
        "test('Is tweety a bird', 'Sorry, I don\\'t think this is the case')\n",
        "test('Does tweety fly', 'Sorry, I don\\'t think this is the case')\n",
        "\n",
        "\n",
        "#run after so no unexpected knowledge is haning about for next cells\n",
        "cleanup()\n"
      ],
      "execution_count": 5,
      "outputs": [
        {
          "output_type": "stream",
          "name": "stdout",
          "text": [
            "I am a blank slate\n",
            "Test 'Tell me about...' queries:\n",
            "\n",
            "Query: Tell me all\n",
            "Answer: every human is mortal. peter is human\n",
            "\n",
            "Query: tell me about unknownnoun\n",
            "Answer: I heard you say,  tell me about unknownnoun , could you rephrase that please?\n",
            "\n",
            "Query: tell me about tweety\n",
            "Answer: I know nothing about tweety\n",
            "\n",
            "Query: tell me about peter\n",
            "Answer: peter is human. peter is mortal\n",
            "\n",
            "\n",
            "Test 'Is...' queries:\n",
            "\n",
            "Query: Is unkownnoun human\n",
            "Answer: I heard you say,  Is unkownnoun human , could you rephrase that please?\n",
            "\n",
            "Query: Is tweety a bird\n",
            "Answer: Sorry, I don't think this is the case\n",
            "\n",
            "Query: Is peter mortal\n",
            "Answer: peter is mortal\n",
            "\n",
            "Query: Is peter human\n",
            "Answer: peter is human\n",
            "\n",
            "Query: Who is human\n",
            "Answer: peter is human\n",
            "\n",
            "Query: Who is a bird\n",
            "Answer: Sorry, I don't think this is the case\n",
            "\n",
            "Query: Does tweety fly\n",
            "Answer: Sorry, I don't think this is the case\n",
            "\n",
            "\n",
            "Test 'Is...' queries:\n",
            "\n",
            "Query: Explain why unknownnoun is mortal\n",
            "Answer: I heard you say,  Explain why unknownnoun is mortal , could you rephrase that please?\n",
            "\n",
            "Query: Explain why tweety is a bird\n",
            "Answer: Sorry, I don't think this is the case\n",
            "\n",
            "Query: Explain why peter is a mortal\n",
            "Answer: peter is human; every human is mortal; therefore peter is mortal\n",
            "\n",
            "\n",
            "Test adding new rules:\n",
            "\n",
            "Query: Peter is mortal\n",
            "Answer: I already knew that Peter is mortal\n",
            "\n",
            "Query: Tweety is a bird\n",
            "Answer: I will remember that Tweety is a bird\n",
            "\n",
            "Query: Is tweety a bird\n",
            "Answer: tweety is a bird\n",
            "\n",
            "Query: all birds fly\n",
            "Answer: I will remember that all birds fly\n",
            "\n",
            "Query: Does tweety fly\n",
            "Answer: tweety flies\n",
            "\n",
            "Query: Explain why tweety flies\n",
            "Answer: tweety is a bird; every bird is a fly; therefore tweety is a fly\n",
            "\n",
            "Query: Tell me all about tweety\n",
            "Answer: tweety is a bird. tweety is a fly. tweety is a bird. tweety is a fly\n",
            "\n",
            "Query: Forget that tweety is a bird\n",
            "Answer: I erased it from my memory\n",
            "\n",
            "Query: tell me all about tweety\n",
            "Answer: I know nothing about tweety\n",
            "\n",
            "Query: Is tweety a bird\n",
            "Answer: Sorry, I don't think this is the case\n",
            "\n",
            "Query: Does tweety fly\n",
            "Answer: Sorry, I don't think this is the case\n",
            "\n",
            "I am a blank slate\n"
          ]
        }
      ]
    },
    {
      "cell_type": "markdown",
      "source": [
        "# Testing new functionality\n"
      ],
      "metadata": {
        "id": "VV4uPEzaUhL-"
      }
    },
    {
      "cell_type": "markdown",
      "source": [
        "### Default Reasoning"
      ],
      "metadata": {
        "id": "gTzFjICoUqgb"
      }
    },
    {
      "cell_type": "code",
      "source": [
        "#Testing new rules\n",
        "test('Tell me all about opus', 'opus is a bird. opus is a penguin')\n",
        "test('Tell me all about peep', 'peep is a bird.  peep flies')\n",
        "test('Is opus a bird', 'opus is a bird')\n",
        "test('Is peep a bird', 'peep is a bird')\n",
        "test('Is opus a penguin', 'opus is a penguin')\n",
        "test('Is peep a penguin', 'Sorry, I don\\'t think this is the case')\n",
        "\n",
        "#Tweety is not defined as a bird so\n",
        "test('Explain why tweety flies', 'Sorry, I don\\'t think this is the case')\n",
        "\n"
      ],
      "metadata": {
        "id": "UuSpkOQFHfO3"
      },
      "execution_count": null,
      "outputs": []
    },
    {
      "cell_type": "code",
      "source": [
        "cleanup()\n",
        "print(query('tweety flies'))\n",
        "print(query('tell me all'))\n",
        "cleanup()\n",
        "print(query('tell me all'))\n"
      ],
      "metadata": {
        "id": "gFM8SP8v_kgl",
        "outputId": "9c9aca61-6f82-47dc-dcf7-54f4747786bd",
        "colab": {
          "base_uri": "https://localhost:8080/"
        }
      },
      "execution_count": 6,
      "outputs": [
        {
          "output_type": "stream",
          "name": "stdout",
          "text": [
            "I am a blank slate\n",
            "I will remember that tweety flies\n",
            "every human is mortal. peter is human. tweety is a fly\n",
            "I am a blank slate\n",
            "every human is mortal. peter is human\n"
          ]
        }
      ]
    },
    {
      "cell_type": "markdown",
      "source": [
        "###  Ideas for new funtionality\n",
        " Combine queryies test('Is peter human and mortal', 'peter is human')\n",
        "\n",
        " test('Is tweety a bird', 'tweety is a bird')\n",
        "test('Birds fly', 'I will remember that birds fly')\n",
        "test('Does tweety fly', 'tweety flies')\n"
      ],
      "metadata": {
        "id": "Vih2E-0S_ei_"
      }
    },
    {
      "cell_type": "code",
      "source": [
        "#Interesting error about Tweety flies\n",
        "# print(query('tell me all'))\n",
        "# print(query('tweety flies'))\n",
        "# print(query('tell me all'))"
      ],
      "metadata": {
        "id": "HKPh7x87_dkr"
      },
      "execution_count": 7,
      "outputs": []
    },
    {
      "cell_type": "markdown",
      "source": [
        "Interestingly this problem does not exist if run directly in the backend and it correctly says:\n",
        "```\n",
        "prolexa> \"Tweety flies\".\n",
        "*** utterance(Tweety flies)\n",
        "*** rule([(fly(tweety):-true)])\n",
        "*** answer(I will remember that Tweety flies)\n",
        "I will remember that Tweety flies\n",
        "*** utterance(Tell me all)\n",
        "*** goal(all_rules(_77782))\n",
        "*** answer(every human is mortal. peter is human. tweety flies)\n",
        "every human is mortal. peter is human. tweety flies\n",
        "```"
      ],
      "metadata": {
        "id": "wU4wdG3IXUpV"
      }
    },
    {
      "cell_type": "code",
      "metadata": {
        "id": "YIQ9Af5p_S1-",
        "outputId": "b4b7f9d1-ceb8-48b2-f157-50fb904b2dac",
        "colab": {
          "base_uri": "https://localhost:8080/"
        }
      },
      "source": [
        "print(query(\"tweety is a bird\"))\n",
        "print(query('tell me all'))\n",
        "print(query('Tell me all about tweety'))\n",
        "print(query('Does tweety fly'))\n",
        "cleanup()\n",
        "print(query('Does tweety fly'))\n",
        "cleanup()\n",
        "print(query('Explain why tweety flies'))"
      ],
      "execution_count": 8,
      "outputs": [
        {
          "output_type": "stream",
          "name": "stdout",
          "text": [
            "I will remember that tweety is a bird\n",
            "every human is mortal. peter is human. tweety is a bird\n",
            "tweety is a bird. tweety is a bird\n",
            "Sorry, I don't think this is the case\n",
            "I am a blank slate\n",
            "Sorry, I don't think this is the case\n",
            "I am a blank slate\n",
            "Sorry, I don't think this is the case\n"
          ]
        }
      ]
    },
    {
      "cell_type": "code",
      "source": [
        ""
      ],
      "metadata": {
        "id": "uaHdoiI3hEX4"
      },
      "execution_count": 8,
      "outputs": []
    },
    {
      "cell_type": "code",
      "source": [
        "print(query('All birds fly'))\n",
        "print(query('tell me all about tweety'))\n",
        "print(query('does tweety fly'))"
      ],
      "metadata": {
        "id": "slB-OrgYiZLY",
        "outputId": "5dd89b0a-6622-4c07-e049-e8e69708771d",
        "colab": {
          "base_uri": "https://localhost:8080/"
        }
      },
      "execution_count": 9,
      "outputs": [
        {
          "output_type": "stream",
          "name": "stdout",
          "text": [
            "I will remember that All birds fly\n",
            "I know nothing about tweety\n",
            "Sorry, I don't think this is the case\n"
          ]
        }
      ]
    },
    {
      "cell_type": "code",
      "source": [
        "#Prove\n",
        "test('Prove Peter is human', '')"
      ],
      "metadata": {
        "id": "cuukGGW_ic2w",
        "outputId": "18e4b3c0-ac58-4c95-a714-a535820a7a67",
        "colab": {
          "base_uri": "https://localhost:8080/",
          "height": 340
        }
      },
      "execution_count": 10,
      "outputs": [
        {
          "output_type": "stream",
          "name": "stdout",
          "text": [
            "Query: Prove Peter is human\n"
          ]
        },
        {
          "output_type": "error",
          "ename": "AssertionError",
          "evalue": "ignored",
          "traceback": [
            "\u001b[0;31m---------------------------------------------------------------------------\u001b[0m",
            "\u001b[0;31mAssertionError\u001b[0m                            Traceback (most recent call last)",
            "\u001b[0;32m<ipython-input-10-1418b430ca5d>\u001b[0m in \u001b[0;36m<module>\u001b[0;34m()\u001b[0m\n\u001b[1;32m      1\u001b[0m \u001b[0;31m#Prove\u001b[0m\u001b[0;34m\u001b[0m\u001b[0;34m\u001b[0m\u001b[0;34m\u001b[0m\u001b[0m\n\u001b[0;32m----> 2\u001b[0;31m \u001b[0mtest\u001b[0m\u001b[0;34m(\u001b[0m\u001b[0;34m'Prove Peter is human'\u001b[0m\u001b[0;34m,\u001b[0m \u001b[0;34m''\u001b[0m\u001b[0;34m)\u001b[0m\u001b[0;34m\u001b[0m\u001b[0;34m\u001b[0m\u001b[0m\n\u001b[0m",
            "\u001b[0;32m<ipython-input-4-eb9a926983eb>\u001b[0m in \u001b[0;36mtest\u001b[0;34m(input, expected_answer)\u001b[0m\n\u001b[1;32m      8\u001b[0m   \u001b[0mprint\u001b[0m\u001b[0;34m(\u001b[0m\u001b[0;34mf'Query: {input}'\u001b[0m\u001b[0;34m)\u001b[0m\u001b[0;34m\u001b[0m\u001b[0;34m\u001b[0m\u001b[0m\n\u001b[1;32m      9\u001b[0m   \u001b[0mactual_answer\u001b[0m \u001b[0;34m=\u001b[0m \u001b[0mquery\u001b[0m\u001b[0;34m(\u001b[0m\u001b[0minput\u001b[0m\u001b[0;34m)\u001b[0m\u001b[0;34m\u001b[0m\u001b[0;34m\u001b[0m\u001b[0m\n\u001b[0;32m---> 10\u001b[0;31m   \u001b[0;32massert\u001b[0m \u001b[0mactual_answer\u001b[0m \u001b[0;34m==\u001b[0m \u001b[0mexpected_answer\u001b[0m\u001b[0;34m,\u001b[0m \u001b[0;34m'Expected Answer:  '\u001b[0m \u001b[0;34m+\u001b[0m \u001b[0mexpected_answer\u001b[0m \u001b[0;34m+\u001b[0m \u001b[0;34m'\\n Actual answer: '\u001b[0m \u001b[0;34m+\u001b[0m \u001b[0mactual_answer\u001b[0m\u001b[0;34m\u001b[0m\u001b[0;34m\u001b[0m\u001b[0m\n\u001b[0m\u001b[1;32m     11\u001b[0m   \u001b[0mprint\u001b[0m\u001b[0;34m(\u001b[0m\u001b[0;34mf'Answer: {actual_answer}\\n'\u001b[0m\u001b[0;34m)\u001b[0m\u001b[0;34m\u001b[0m\u001b[0;34m\u001b[0m\u001b[0m\n\u001b[1;32m     12\u001b[0m \u001b[0;34m\u001b[0m\u001b[0m\n",
            "\u001b[0;31mAssertionError\u001b[0m: Expected Answer:  \n Actual answer: I heard you say,  Prove Peter is human , could you rephrase that please?"
          ]
        }
      ]
    },
    {
      "cell_type": "code",
      "source": [
        ""
      ],
      "metadata": {
        "id": "rHyQjKEG0Xja"
      },
      "execution_count": null,
      "outputs": []
    }
  ]
}