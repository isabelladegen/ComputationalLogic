{
  "nbformat": 4,
  "nbformat_minor": 0,
  "metadata": {
    "colab": {
      "name": "Testing Prolexa Plus Notebook.ipynb",
      "provenance": [],
      "collapsed_sections": [],
      "include_colab_link": true
    },
    "kernelspec": {
      "display_name": "Python 3",
      "name": "python3"
    },
    "language_info": {
      "name": "python"
    }
  },
  "cells": [
    {
      "cell_type": "markdown",
      "metadata": {
        "id": "view-in-github",
        "colab_type": "text"
      },
      "source": [
        "<a href=\"https://colab.research.google.com/github/isabelladegen/ComputationalLogic/blob/prolexa-plus/Tests_Notebook.ipynb\" target=\"_parent\"><img src=\"https://colab.research.google.com/assets/colab-badge.svg\" alt=\"Open In Colab\"/></a>"
      ]
    },
    {
      "cell_type": "markdown",
      "metadata": {
        "id": "i0vSCAwPAleW"
      },
      "source": [
        "#Testing Notebook \n",
        "Notebook that makes sure Prolexa continues to work\n"
      ]
    },
    {
      "cell_type": "markdown",
      "metadata": {
        "id": "hij-_4uHAzIj"
      },
      "source": [
        "### Installations like demo notebook\n"
      ]
    },
    {
      "cell_type": "code",
      "metadata": {
        "id": "HDY7hKs490UH"
      },
      "source": [
        "!apt-get install swi-prolog -qqq > /dev/null"
      ],
      "execution_count": 1,
      "outputs": []
    },
    {
      "cell_type": "markdown",
      "source": [
        "### Installing Prolexa\n",
        "Same error as on the branch on the forked branch https://github.com/simply-logical/ComputationalLogic/"
      ],
      "metadata": {
        "id": "XzTl4S4QtwnC"
      }
    },
    {
      "cell_type": "code",
      "metadata": {
        "id": "LGMiAYLm77DC"
      },
      "source": [
        "!yes | pip install git+https://github.com/isabelladegen/ComputationalLogic/ -qqq > /dev/null"
      ],
      "execution_count": 2,
      "outputs": []
    },
    {
      "cell_type": "markdown",
      "metadata": {
        "id": "4Q1TuvlXBFpA"
      },
      "source": [
        "### Instantiate Prolexa \n"
      ]
    },
    {
      "cell_type": "code",
      "metadata": {
        "colab": {
          "base_uri": "https://localhost:8080/"
        },
        "id": "un81VxmqzUMx",
        "outputId": "ea8b0eb1-78b8-4c89-bfae-bd8a35b12c91"
      },
      "source": [
        "from pyswip import Prolog\n",
        "import prolexa.meta_grammar as meta\n",
        "\n",
        "pl = Prolog()\n",
        "meta.reset_grammar()\n",
        "meta.initialise_prolexa(pl)"
      ],
      "execution_count": 3,
      "outputs": [
        {
          "output_type": "stream",
          "name": "stdout",
          "text": [
            "2021-12-16 17:55:14,982 --------------------------------------------------------------------------------\n",
            "2021-12-16 17:55:14,985 The model key 'pos' now maps to 'https://huggingface.co/flair/pos-english' on the HuggingFace ModelHub\n",
            "2021-12-16 17:55:14,990  - The most current version of the model is automatically downloaded from there.\n",
            "2021-12-16 17:55:14,995  - (you can alternatively manually download the original model at https://nlp.informatik.hu-berlin.de/resources/models/pos/en-pos-ontonotes-v0.5.pt)\n",
            "2021-12-16 17:55:14,998 --------------------------------------------------------------------------------\n",
            "2021-12-16 17:55:15,173 loading file /root/.flair/models/pos-english/a9a73f6cd878edce8a0fa518db76f441f1cc49c2525b2b4557af278ec2f0659e.121306ea62993d04cd1978398b68396931a39eb47754c8a06a87f325ea70ac63\n"
          ]
        }
      ]
    },
    {
      "cell_type": "markdown",
      "source": [
        "###  Some Helper functions to make the tests easier to read"
      ],
      "metadata": {
        "id": "L2TcmLRB_CZB"
      }
    },
    {
      "cell_type": "code",
      "source": [
        "def query(input):\n",
        "  answer = meta.standardised_query(pl, input)[0]['Output']\n",
        "  if isinstance(answer, str):\n",
        "    return answer\n",
        "  return str(answer, 'utf-8')\n",
        "\n",
        "def test(input, expected_answer):\n",
        "  print(f'Query: {input}')\n",
        "  actual_answer = query(input)\n",
        "  assert actual_answer == expected_answer, 'Expected Answer:  ' + expected_answer + '\\n Actual answer: ' + actual_answer\n",
        "  print(f'Answer: {actual_answer}\\n')\n",
        "\n",
        "def cleanup():\n",
        "  print(query('forget everything'))\n",
        "  meta.reset_grammar()\n",
        "  meta.initialise_prolexa(pl)"
      ],
      "metadata": {
        "id": "biUdfuFgwwxd"
      },
      "execution_count": 4,
      "outputs": []
    },
    {
      "cell_type": "markdown",
      "metadata": {
        "id": "UsWtwSz2BX9l"
      },
      "source": [
        "### Testing existing functionality\n",
        "\n",
        "Syntax: `test(input_query, expected_answer)`\n",
        "\n",
        "Be careful not to add new nouns to Prolexa. The `forget all` method currently deletes all the rules about that noun but not the noun itself"
      ]
    },
    {
      "cell_type": "code",
      "metadata": {
        "id": "J-_HAtkIm19i",
        "colab": {
          "base_uri": "https://localhost:8080/"
        },
        "outputId": "6c2de44f-f916-44de-cf61-f7c8d74d95cc"
      },
      "source": [
        "#run before so no unexpected knowledge is haning about\n",
        "cleanup()\n",
        "\n",
        "#Tell me about... queries\n",
        "print(\"Test 'Tell me about...' queries:\\n\")\n",
        "test('Tell me all', 'every human is mortal. peter is human. some birds fly. penguins dont fly. every penguin is a bird. opus is a penguin. peep is a bird') #extened with new rules added to prolexa\n",
        "test('tell me about unknownnoun', 'I heard you say,  tell me about unknownnoun , could you rephrase that please?')\n",
        "test('tell me about tweety', 'I know nothing about tweety')\n",
        "test('tell me about peter', 'peter is human. peter is mortal')\n",
        "\n",
        "#Is... queries\n",
        "print(\"\\nTest 'Is...' queries:\\n\")\n",
        "test('Is unkownnoun human', 'I heard you say,  Is unkownnoun human , could you rephrase that please?')\n",
        "test('Is tweety a bird', 'Sorry, I don\\'t think this is the case')\n",
        "test('Is peter mortal', 'peter is mortal')\n",
        "test('Is peter human', 'peter is human')\n",
        "test('Who is human', 'peter is human')\n",
        "test('Who is a bird', 'opus is a bird')\n",
        "test('Does tweety fly', 'Sorry, I don\\'t think this is the case')\n",
        "\n",
        "#Explain... queries\n",
        "print(\"\\nTest 'Is...' queries:\\n\")\n",
        "test('Explain why unknownnoun is mortal', 'I heard you say,  Explain why unknownnoun is mortal , could you rephrase that please?')\n",
        "test('Explain why tweety is a bird','Sorry, I don\\'t think this is the case')\n",
        "test('Explain why peter is mortal', 'peter is human; every human is mortal; therefore peter is mortal')\n",
        "\n",
        "#Adding new rules and forgeting rules\n",
        "print(\"\\nTest adding new rules:\\n\")\n",
        "test('Peter is mortal', 'I already knew that Peter is mortal')\n",
        "\n",
        "#add a rule and forget it again\n",
        "test('Tweety is a bird', 'I will remember that Tweety is a bird')\n",
        "test('Is tweety a bird', 'tweety is a bird')\n",
        "test('all birds tweet', 'I will remember that all birds tweet')\n",
        "test('Does tweety tweet', 'tweety tweets')\n",
        "test('Explain why tweety tweets', 'tweety is a bird; every bird is a tweet; therefore tweety is a tweet') #TODO notice the really odd transaltion <a tweet>, the comandline does not do this\n",
        "test('Tell me all about tweety', 'tweety is a bird. tweety is a tweet. tweety is a bird') #TODO notice the duplication in answers!!!\n",
        "test('Forget that tweety is a bird', 'I erased it from my memory')\n",
        "test('tell me all about tweety', 'I know nothing about tweety')\n",
        "test('Is tweety a bird', 'Sorry, I don\\'t think this is the case')\n",
        "test('Does tweety fly', 'Sorry, I don\\'t think this is the case')\n",
        "\n",
        "\n",
        "#run after so no unexpected knowledge is haning about for next cells\n",
        "cleanup()\n"
      ],
      "execution_count": 5,
      "outputs": [
        {
          "output_type": "stream",
          "name": "stdout",
          "text": [
            "I am a blank slate\n",
            "Test 'Tell me about...' queries:\n",
            "\n",
            "Query: Tell me all\n",
            "Answer: every human is mortal. peter is human. some birds fly. penguins dont fly. every penguin is a bird. opus is a penguin. peep is a bird\n",
            "\n",
            "Query: tell me about unknownnoun\n",
            "Answer: I heard you say,  tell me about unknownnoun , could you rephrase that please?\n",
            "\n",
            "Query: tell me about tweety\n",
            "Answer: I know nothing about tweety\n",
            "\n",
            "Query: tell me about peter\n",
            "Answer: peter is human. peter is mortal\n",
            "\n",
            "\n",
            "Test 'Is...' queries:\n",
            "\n",
            "Query: Is unkownnoun human\n",
            "Answer: I heard you say,  Is unkownnoun human , could you rephrase that please?\n",
            "\n",
            "Query: Is tweety a bird\n",
            "Answer: Sorry, I don't think this is the case\n",
            "\n",
            "Query: Is peter mortal\n",
            "Answer: peter is mortal\n",
            "\n",
            "Query: Is peter human\n",
            "Answer: peter is human\n",
            "\n",
            "Query: Who is human\n",
            "Answer: peter is human\n",
            "\n",
            "Query: Who is a bird\n",
            "Answer: opus is a bird\n",
            "\n",
            "Query: Does tweety fly\n",
            "Answer: Sorry, I don't think this is the case\n",
            "\n",
            "\n",
            "Test 'Is...' queries:\n",
            "\n",
            "Query: Explain why unknownnoun is mortal\n",
            "Answer: I heard you say,  Explain why unknownnoun is mortal , could you rephrase that please?\n",
            "\n",
            "Query: Explain why tweety is a bird\n",
            "Answer: Sorry, I don't think this is the case\n",
            "\n",
            "Query: Explain why peter is mortal\n",
            "Answer: peter is human; every human is mortal; therefore peter is mortal\n",
            "\n",
            "\n",
            "Test adding new rules:\n",
            "\n",
            "Query: Peter is mortal\n",
            "Answer: I already knew that Peter is mortal\n",
            "\n",
            "Query: Tweety is a bird\n",
            "Answer: I will remember that Tweety is a bird\n",
            "\n",
            "Query: Is tweety a bird\n",
            "Answer: tweety is a bird\n",
            "\n",
            "Query: all birds tweet\n",
            "Answer: I will remember that all birds tweet\n",
            "\n",
            "Query: Does tweety tweet\n",
            "Answer: tweety tweets\n",
            "\n",
            "Query: Explain why tweety tweets\n",
            "Answer: tweety is a bird; every bird is a tweet; therefore tweety is a tweet\n",
            "\n",
            "Query: Tell me all about tweety\n",
            "Answer: tweety is a bird. tweety is a tweet. tweety is a bird\n",
            "\n",
            "Query: Forget that tweety is a bird\n",
            "Answer: I erased it from my memory\n",
            "\n",
            "Query: tell me all about tweety\n",
            "Answer: I know nothing about tweety\n",
            "\n",
            "Query: Is tweety a bird\n",
            "Answer: Sorry, I don't think this is the case\n",
            "\n",
            "Query: Does tweety fly\n",
            "Answer: Sorry, I don't think this is the case\n",
            "\n",
            "I am a blank slate\n"
          ]
        }
      ]
    },
    {
      "cell_type": "markdown",
      "source": [
        "# Testing new functionality\n"
      ],
      "metadata": {
        "id": "VV4uPEzaUhL-"
      }
    },
    {
      "cell_type": "markdown",
      "source": [
        "### Default Reasoning"
      ],
      "metadata": {
        "id": "gTzFjICoUqgb"
      }
    },
    {
      "cell_type": "code",
      "source": [
        "cleanup()\n",
        "#Testing new rules\n",
        "test('Tell me about opus', 'opus is a bird. opus is a penguin')\n",
        "test('Tell me about peep', 'peep is a bird') #This should say peep flys\n",
        "test('Is opus a bird', 'opus is a bird')\n",
        "test('Is peep a bird', 'peep is a bird')\n",
        "test('Is opus a penguin', 'opus is a penguin')\n",
        "test('Is peep a penguin', 'Sorry, I don\\'t think this is the case')\n",
        "\n",
        "#Tweety is not defined as a bird so\n",
        "test('Explain why tweety flies', 'Sorry, I don\\'t think this is the case')\n",
        "test('Explain why peep flies', 'peep is a bird; some birds are flys; therefore peep is a fly') #notice the peep is a fly -> again this does not happen on prolexa just with prolexa_plus\n",
        "\n",
        "\n",
        "#Notice that 'penguins arent flys' which does work on the comandline -> prolexa plus seems to do something weird with verbs and adjectives and nouns\n",
        "#test('Spill the beans', 'every human is mortal. peter is human. penguins arent flys. every bird is a fly. every penguin is a bird. opus is a penguin. peep is a bird')\n",
        "cleanup()\n"
      ],
      "metadata": {
        "colab": {
          "base_uri": "https://localhost:8080/"
        },
        "id": "UuSpkOQFHfO3",
        "outputId": "f68aa3ab-184f-480d-aadc-be517425e723"
      },
      "execution_count": 10,
      "outputs": [
        {
          "output_type": "stream",
          "name": "stdout",
          "text": [
            "I am a blank slate\n",
            "Query: Tell me about opus\n",
            "Answer: opus is a bird. opus is a penguin\n",
            "\n",
            "Query: Tell me about peep\n",
            "Answer: peep is a bird\n",
            "\n",
            "Query: Is opus a bird\n",
            "Answer: opus is a bird\n",
            "\n",
            "Query: Is peep a bird\n",
            "Answer: peep is a bird\n",
            "\n",
            "Query: Is opus a penguin\n",
            "Answer: opus is a penguin\n",
            "\n",
            "Query: Is peep a penguin\n",
            "Answer: Sorry, I don't think this is the case\n",
            "\n",
            "Query: Explain why tweety flies\n",
            "Answer: Sorry, I don't think this is the case\n",
            "\n",
            "Query: Explain why peep flies\n",
            "Answer: peep is a bird; some birds are flys; therefore peep is a fly\n",
            "\n",
            "I am a blank slate\n"
          ]
        }
      ]
    },
    {
      "cell_type": "code",
      "source": [
        "cleanup()\n",
        "print(query('tweety flies'))\n",
        "print(query('tell me all'))\n",
        "cleanup()\n",
        "print(query('tell me all'))\n"
      ],
      "metadata": {
        "id": "gFM8SP8v_kgl"
      },
      "execution_count": null,
      "outputs": []
    },
    {
      "cell_type": "markdown",
      "source": [
        "###  Ideas for new funtionality\n",
        " Combine queryies test('Is peter human and mortal', 'peter is human')\n",
        "\n",
        " test('Is tweety a bird', 'tweety is a bird')\n",
        "test('Birds fly', 'I will remember that birds fly')\n",
        "test('Does tweety fly', 'tweety flies')\n"
      ],
      "metadata": {
        "id": "Vih2E-0S_ei_"
      }
    },
    {
      "cell_type": "code",
      "source": [
        "#Interesting error about Tweety flies\n",
        "# print(query('tell me all'))\n",
        "# print(query('tweety flies'))\n",
        "# print(query('tell me all'))"
      ],
      "metadata": {
        "id": "HKPh7x87_dkr"
      },
      "execution_count": null,
      "outputs": []
    },
    {
      "cell_type": "markdown",
      "source": [
        "Interestingly this problem does not exist if run directly in the backend and it correctly says:\n",
        "```\n",
        "prolexa> \"Tweety flies\".\n",
        "*** utterance(Tweety flies)\n",
        "*** rule([(fly(tweety):-true)])\n",
        "*** answer(I will remember that Tweety flies)\n",
        "I will remember that Tweety flies\n",
        "*** utterance(Tell me all)\n",
        "*** goal(all_rules(_77782))\n",
        "*** answer(every human is mortal. peter is human. tweety flies)\n",
        "every human is mortal. peter is human. tweety flies\n",
        "```"
      ],
      "metadata": {
        "id": "wU4wdG3IXUpV"
      }
    },
    {
      "cell_type": "code",
      "metadata": {
        "id": "YIQ9Af5p_S1-"
      },
      "source": [
        "print(query(\"tweety is a bird\"))\n",
        "print(query('tell me all'))\n",
        "print(query('Tell me all about tweety'))\n",
        "print(query('Does tweety fly'))\n",
        "cleanup()\n",
        "print(query('Does tweety fly'))\n",
        "cleanup()\n",
        "print(query('Explain why tweety flies'))"
      ],
      "execution_count": null,
      "outputs": []
    },
    {
      "cell_type": "code",
      "source": [
        ""
      ],
      "metadata": {
        "id": "uaHdoiI3hEX4"
      },
      "execution_count": null,
      "outputs": []
    },
    {
      "cell_type": "code",
      "source": [
        "print(query('All birds fly'))\n",
        "print(query('tell me all about tweety'))\n",
        "print(query('does tweety fly'))"
      ],
      "metadata": {
        "id": "slB-OrgYiZLY"
      },
      "execution_count": null,
      "outputs": []
    },
    {
      "cell_type": "code",
      "source": [
        "#Prove\n",
        "#test('Prove Peter is human', '')"
      ],
      "metadata": {
        "id": "cuukGGW_ic2w"
      },
      "execution_count": null,
      "outputs": []
    },
    {
      "cell_type": "code",
      "source": [
        ""
      ],
      "metadata": {
        "id": "rHyQjKEG0Xja"
      },
      "execution_count": null,
      "outputs": []
    }
  ]
}