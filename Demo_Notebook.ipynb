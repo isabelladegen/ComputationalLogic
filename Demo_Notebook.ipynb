{
  "nbformat": 4,
  "nbformat_minor": 0,
  "metadata": {
    "colab": {
      "name": "Demo_Notebook.ipynb",
      "provenance": [],
      "collapsed_sections": [],
      "include_colab_link": true
    },
    "kernelspec": {
      "display_name": "Python 3",
      "name": "python3"
    },
    "language_info": {
      "name": "python"
    }
  },
  "cells": [
    {
      "cell_type": "markdown",
      "metadata": {
        "id": "view-in-github",
        "colab_type": "text"
      },
      "source": [
        "<a href=\"https://colab.research.google.com/github/isabelladegen/ComputationalLogic/blob/prolexa-plus/Demo_Notebook.ipynb\" target=\"_parent\"><img src=\"https://colab.research.google.com/assets/colab-badge.svg\" alt=\"Open In Colab\"/></a>"
      ]
    },
    {
      "cell_type": "markdown",
      "metadata": {
        "id": "i0vSCAwPAleW"
      },
      "source": [
        "#Demo and Testing Notebook Isabella\n",
        "Notebook that makes sure Prolexa continues to work\n"
      ]
    },
    {
      "cell_type": "markdown",
      "metadata": {
        "id": "hij-_4uHAzIj"
      },
      "source": [
        "### Installations like demo notebook\n"
      ]
    },
    {
      "cell_type": "code",
      "metadata": {
        "id": "HDY7hKs490UH",
        "colab": {
          "base_uri": "https://localhost:8080/"
        },
        "outputId": "3b696046-fde0-4284-d37a-b09fa63cca6f"
      },
      "source": [
        "!apt-get install swi-prolog -qqq > /dev/null"
      ],
      "execution_count": 1,
      "outputs": [
        {
          "output_type": "stream",
          "name": "stdout",
          "text": [
            "Extracting templates from packages: 100%\n"
          ]
        }
      ]
    },
    {
      "cell_type": "markdown",
      "source": [
        "### Installing Prolexa\n",
        "\n",
        "Using --upgrade to always pull changes from the git repostiory!\n",
        "*Same error as on the branch on the forked branch https://github.com/simply-logical/ComputationalLogic/*"
      ],
      "metadata": {
        "id": "XzTl4S4QtwnC"
      }
    },
    {
      "cell_type": "code",
      "metadata": {
        "id": "LGMiAYLm77DC",
        "colab": {
          "base_uri": "https://localhost:8080/"
        },
        "outputId": "782fe871-657e-48ef-f5b4-b2bfe8ccdf05"
      },
      "source": [
        "!yes | pip install --upgrade git+https://github.com/isabelladegen/ComputationalLogic/ -qqq > /dev/null"
      ],
      "execution_count": 2,
      "outputs": [
        {
          "output_type": "stream",
          "name": "stdout",
          "text": [
            "\u001b[31m  ERROR: Failed building wheel for prolexa\u001b[0m\n",
            "\u001b[33m  DEPRECATION: prolexa was installed using the legacy 'setup.py install' method, because a wheel could not be built for it. A possible replacement is to fix the wheel build issue reported above. You can find discussion regarding this at https://github.com/pypa/pip/issues/8368.\u001b[0m\n",
            "\u001b[31mERROR: pip's dependency resolver does not currently take into account all the packages that are installed. This behaviour is the source of the following dependency conflicts.\n",
            "markdown 3.3.6 requires importlib-metadata>=4.4; python_version < \"3.10\", but you have importlib-metadata 3.10.1 which is incompatible.\n",
            "google-colab 1.0.0 requires requests~=2.23.0, but you have requests 2.26.0 which is incompatible.\n",
            "datascience 0.10.6 requires folium==0.2.1, but you have folium 0.8.3 which is incompatible.\u001b[0m\n"
          ]
        }
      ]
    },
    {
      "cell_type": "markdown",
      "metadata": {
        "id": "4Q1TuvlXBFpA"
      },
      "source": [
        "### Functions to call Prolexa directly\n",
        "\n",
        "These are not using the meta_grammar from Prolexa, meaning that no know proper nouns can be added\n"
      ]
    },
    {
      "cell_type": "code",
      "metadata": {
        "id": "un81VxmqzUMx"
      },
      "source": [
        "import os\n",
        "from pyswip import Prolog\n",
        "import site\n",
        " \n",
        "def find_prolog_path():\n",
        "  packages_paths = site.getsitepackages()\n",
        "  for ppath in packages_paths:\n",
        "    if 'prolexa' in os.listdir(ppath):\n",
        "      return os.path.join(ppath, 'prolexa/prolog')\n",
        "    else:\n",
        "      raise Exception(f'\\'prolexa\\' package was not found in {packages_path}. Did you install it?')\n",
        "                \n",
        "pl = Prolog()\n",
        "\n",
        "def initialise_prolexa():\n",
        "  pl.consult(os.path.join(find_prolog_path(), 'prolexa.pl'))\n",
        "\n",
        "def query(input): #also inspired from prolexa\n",
        "  initialise_prolexa()\n",
        "  libPrefix = 'prolexa:'\n",
        "  generator = pl.query(libPrefix + handle_utterance_str(input))\n",
        "  answer = list(generator)[0]['Output']\n",
        "  if isinstance(answer, str):\n",
        "    return answer\n",
        "  return str(answer, 'utf-8')\n",
        "\n",
        "def handle_utterance_str(text): #this is from the meta_grammar from prolexa plus!\n",
        "    if text[0] != \"'\" and text[0] != '\"' :\n",
        "        text = f'\"{text}\"'\n",
        "\n",
        "    text = text.replace('\"', '\\\"')\n",
        "    text = text.replace(\"'\", '\\\"')\n",
        "\n",
        "    return 'handle_utterance(1,{},Output)'.format(text)"
      ],
      "execution_count": 3,
      "outputs": []
    },
    {
      "cell_type": "code",
      "source": [
        "query('Tell me all')"
      ],
      "metadata": {
        "colab": {
          "base_uri": "https://localhost:8080/",
          "height": 35
        },
        "id": "k0tu1RvCnbgn",
        "outputId": "7766e4c2-3fc8-460d-d5c3-92e58a7445f5"
      },
      "execution_count": 4,
      "outputs": [
        {
          "output_type": "execute_result",
          "data": {
            "application/vnd.google.colaboratory.intrinsic+json": {
              "type": "string"
            },
            "text/plain": [
              "'every human is mortal. peter is human. some birds fly. penguins dont fly. every penguin is a bird. opus is a penguin. peep is a bird'"
            ]
          },
          "metadata": {},
          "execution_count": 4
        }
      ]
    },
    {
      "cell_type": "markdown",
      "source": [
        "###  Some Helper functions to make tests easier to read"
      ],
      "metadata": {
        "id": "L2TcmLRB_CZB"
      }
    },
    {
      "cell_type": "code",
      "source": [
        "def test(input, expected_answer):\n",
        "  # print(f'Query: {input}')\n",
        "  actual_answer = query(input)\n",
        "  # print(f'Answer: {actual_answer}\\n')\n",
        "  assert actual_answer == expected_answer, 'Expected Answer:  ' + expected_answer + '\\n Actual answer: ' + actual_answer\n",
        "\n",
        "def cleanup():\n",
        "  query('forget everything')\n",
        "  initialise_prolexa()\n"
      ],
      "metadata": {
        "id": "biUdfuFgwwxd"
      },
      "execution_count": 5,
      "outputs": []
    },
    {
      "cell_type": "markdown",
      "metadata": {
        "id": "UsWtwSz2BX9l"
      },
      "source": [
        "### Ensure existing functionality continues to work\n",
        "\n",
        "Syntax: `test(input_query, expected_answer)`\n"
      ]
    },
    {
      "cell_type": "code",
      "metadata": {
        "id": "J-_HAtkIm19i"
      },
      "source": [
        "cleanup() #celean, in case some tests added knowledge\n",
        "#Check whats known in the stored rules\n",
        "test('Spill the beans', 'every human is mortal. peter is human. some birds fly. penguins dont fly. every penguin is a bird. opus is a penguin. peep is a bird')\n",
        "\n",
        "#Tell me about... queries\n",
        "test('Tell me all', 'every human is mortal. peter is human. some birds fly. penguins dont fly. every penguin is a bird. opus is a penguin. peep is a bird') #extened with new rules added to prolexa\n",
        "test('tell me about unknownnoun', 'I heard you say,  tell me about unknownnoun , could you rephrase that please?')\n",
        "test('tell me about tweety', 'I know nothing about tweety')\n",
        "test('tell me about peter', 'peter is human. peter is mortal')\n",
        "test('Spill the beans', 'every human is mortal. peter is human. some birds fly. penguins dont fly. every penguin is a bird. opus is a penguin. peep is a bird')\n",
        "\n",
        "#Is... queries\n",
        "test('Is unkownnoun human', 'I heard you say,  Is unkownnoun human , could you rephrase that please?')\n",
        "test('Is tweety a bird', 'Sorry, I don\\'t think this is the case')\n",
        "test('Is peter mortal', 'peter is mortal')\n",
        "test('Is peter human', 'peter is human')\n",
        "test('Who is human', 'peter is human')\n",
        "test('Who is a bird', 'opus is a bird')\n",
        "test('Does tweety fly', 'Sorry, I don\\'t think this is the case')\n",
        "\n",
        "#Explain... queries\n",
        "test('Explain why unknownnoun is mortal', 'I heard you say,  Explain why unknownnoun is mortal , could you rephrase that please?') #unkown words don't work\n",
        "test('Explain why tweety is a bird','Sorry, I don\\'t think this is the case')\n",
        "test('Explain why peter is mortal', 'peter is human; every human is mortal; therefore peter is mortal')\n",
        "\n",
        "#Adding new rules and forgeting rules\n",
        "test('Peter is mortal', 'I already knew that Peter is mortal')\n",
        "test('Tweety is a bird', 'I will remember that Tweety is a bird')\n",
        "test('Is tweety a bird', 'tweety is a bird')\n",
        "test('Tell me all about tweety', 'tweety is a bird. tweety flies') \n",
        "test('Forget that tweety is a bird', 'I erased it from my memory')\n",
        "test('tell me all about tweety', 'I know nothing about tweety')\n",
        "test('Is tweety a bird', 'Sorry, I don\\'t think this is the case')\n",
        "test('Does tweety fly', 'Sorry, I don\\'t think this is the case')\n",
        "cleanup()\n"
      ],
      "execution_count": 37,
      "outputs": []
    },
    {
      "cell_type": "markdown",
      "source": [
        "# Demonstrating new functionality\n"
      ],
      "metadata": {
        "id": "VV4uPEzaUhL-"
      }
    },
    {
      "cell_type": "markdown",
      "source": [
        "### Default Reasoning with rules in the rulebase\n",
        "- Peep and Opus both are proper nouns\n",
        "- <TODO: put the rulebase here>"
      ],
      "metadata": {
        "id": "gTzFjICoUqgb"
      }
    },
    {
      "cell_type": "code",
      "source": [
        "cleanup()\n",
        "#Check what's already known about tweety, peep and opus in the rulebase before we start adding\n",
        "test('Spill the beans', 'every human is mortal. peter is human. some birds fly. penguins dont fly. every penguin is a bird. opus is a penguin. peep is a bird')\n",
        "\n",
        "#Queries\n",
        "test('Tell me about opus', 'opus is a bird. opus is a penguin. opus doesnt fly') #reports on negated rules from other truths: not(fly(X):-penguin(X)) & penguin(opus):-true\n",
        "test('Tell me about peep', 'peep is a bird. peep flies')\n",
        "test('Is opus a bird', 'opus is a bird')\n",
        "test('Is peep a bird', 'peep is a bird')\n",
        "test('Is opus a penguin', 'opus is a penguin')\n",
        "test('Is peep a penguin', 'Sorry, I don\\'t think this is the case')\n",
        "test('Does opus fly', 'Sorry, I don\\'t think this is the case')\n",
        "test('Does peep fly','peep flies')\n",
        "\n",
        "#Explanations\n",
        "test('Explain why peep flies', 'peep is a bird; some birds fly; therefore peep flies') #explaining using default rules for flying\n",
        "test('Explain why opus flies', 'Sorry, I don\\'t think this is the case') #cannot explain that opus flies (cause opus doesn't fly)\n",
        "test('Explain why opus doesnt fly', 'opus is a penguin; penguins dont fly; therefore opus doesnt fly') #can explain that opus doesn't fly\n",
        "\n",
        "#Check what's known now\n",
        "test('Spill the beans', 'every human is mortal. peter is human. some birds fly. penguins dont fly. every penguin is a bird. opus is a penguin. peep is a bird')\n",
        "cleanup()\n"
      ],
      "metadata": {
        "id": "UuSpkOQFHfO3"
      },
      "execution_count": 45,
      "outputs": []
    },
    {
      "cell_type": "markdown",
      "source": [
        "### Default reasoning creating new rules while talking to prolexa\n",
        "- the vocabulary has the verbs sing and fly and the noun swan added, there are no rules about swans and sining in the rulebase\n",
        "- Some... will be interpreted as a default rule with exception stored_rule[default(H:B)]\n",
        "- All... is interpreted as a normal stored rule: stored_rule[H:-B]"
      ],
      "metadata": {
        "id": "eJmv7u28fX5m"
      }
    },
    {
      "cell_type": "code",
      "source": [
        "cleanup()\n",
        "#Check what's already known about tweety, peep and opus in the rulebase before we start adding\n",
        "test('Spill the beans', 'every human is mortal. peter is human. some birds fly. penguins dont fly. every penguin is a bird. opus is a penguin. peep is a bird')\n",
        "test('Tell me about tweety', 'I know nothing about tweety')\n",
        "test('Tell me about peep', 'peep is a bird. peep flies')\n",
        "test('Tell me about opus', 'opus is a bird. opus is a penguin. opus doesnt fly')\n",
        "\n",
        "#Create new Default and normal rules\n",
        "test('Some birds sing', 'I will remember that Some birds sing') #adds a new default: stored_rule([(default(bird(X):-sing(X)))])\n",
        "test('Swans dont sing', 'I will remember that Swans dont sing') #adds a new rule: stored_rule([(not sing(X):-swan(X))])\n",
        "test('All swans are birds', 'I will remember that All swans are birds') #adds a new rule: stored_rule([(bird(X):-swan(X))])\n",
        "test('Tweety is a swan', 'I will remember that Tweety is a swan') #adds a new rule: stored_rule([(swan(tweety):-true)])\n",
        "\n",
        "#Show what is known about all the different birds with the new rules\n",
        "test('Tell me about tweety', 'tweety is a bird. tweety is a swan. tweety flies. tweety doesnt sing')\n",
        "test('Tell me about peep', 'peep is a bird. peep flies. peep sings')\n",
        "test('Tell me about opus', 'opus is a bird. opus is a penguin. opus doesnt fly. opus sings')\n",
        "\n",
        "#Demonstrate explanations\n",
        "test('Explain why peep sings', 'peep is a bird; some birds sing; therefore peep sings')\n",
        "test('Explain why tweety doesnt sing', 'tweety is a swan; swans dont sing; therefore tweety doesnt sing') \n",
        "test('Explain why tweety flies', 'tweety is a swan; every swan is a bird; some birds fly; therefore tweety flies') \n",
        "test('Explain why opus sings', 'opus is a penguin; every penguin is a bird; some birds sing; therefore opus sings')\n",
        "\n",
        "#Demonstrate questions\n",
        "test('Does tweety sing', 'Sorry, I don\\'t think this is the case')\n",
        "test('Does opus sing', 'opus sings')\n",
        "test('Does peep sing', 'peep sings')\n",
        "\n",
        "test('Does tweety fly', 'tweety flies')\n",
        "test('Does opus fly', 'Sorry, I don\\'t think this is the case')\n",
        "test('Does peep fly', 'peep flies')\n",
        "\n",
        "test('Is tweety a bird', 'tweety is a bird')\n",
        "test('Is opus a bird', 'opus is a bird')\n",
        "test('Is peep a bird', 'peep is a bird')"
      ],
      "metadata": {
        "id": "MmjIyorDpyum"
      },
      "execution_count": 36,
      "outputs": []
    },
    {
      "cell_type": "markdown",
      "source": [
        "# Negation\n",
        "This has been indirectly implemented as part of default reasoning"
      ],
      "metadata": {
        "id": "y36u3zpJq08K"
      }
    },
    {
      "cell_type": "code",
      "source": [
        "cleanup()\n",
        "#check what's already in the rulebase\n",
        "test('Tell me about Peter', 'peter is human. peter is mortal')\n",
        "\n",
        "#Create a negated fact about Peter\n",
        "test('Peter doesnt fly', 'I will remember that Peter doesnt fly') #adds a new rule: stored_rule([(not fly(peter):-true)])\n",
        "\n",
        "#check what's now known about Peter\n",
        "test('Tell me about Peter', 'peter is human. peter is mortal. peter doesnt fly')\n",
        "test('Explain why Peter doesnt fly', 'peter doesnt fly; therefore peter doesnt fly') "
      ],
      "metadata": {
        "id": "D9R_WZgkksiz"
      },
      "execution_count": 34,
      "outputs": []
    },
    {
      "cell_type": "code",
      "source": [
        ""
      ],
      "metadata": {
        "id": "YV7EkkeBrtRS"
      },
      "execution_count": null,
      "outputs": []
    }
  ]
}