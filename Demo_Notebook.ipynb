{
  "nbformat": 4,
  "nbformat_minor": 0,
  "metadata": {
    "colab": {
      "name": "Demo_Notebook.ipynb",
      "provenance": [],
      "collapsed_sections": [],
      "include_colab_link": true
    },
    "kernelspec": {
      "display_name": "Python 3",
      "name": "python3"
    },
    "language_info": {
      "name": "python"
    }
  },
  "cells": [
    {
      "cell_type": "markdown",
      "metadata": {
        "id": "view-in-github",
        "colab_type": "text"
      },
      "source": [
        "<a href=\"https://colab.research.google.com/github/isabelladegen/ComputationalLogic/blob/prolexa-plus/Demo_Notebook.ipynb\" target=\"_parent\"><img src=\"https://colab.research.google.com/assets/colab-badge.svg\" alt=\"Open In Colab\"/></a>"
      ]
    },
    {
      "cell_type": "markdown",
      "metadata": {
        "id": "i0vSCAwPAleW"
      },
      "source": [
        "#Demo and Testing Notebook Isabella\n",
        "Notebook that makes sure Prolexa continues to work\n"
      ]
    },
    {
      "cell_type": "markdown",
      "metadata": {
        "id": "hij-_4uHAzIj"
      },
      "source": [
        "### Installations like demo notebook\n"
      ]
    },
    {
      "cell_type": "code",
      "metadata": {
        "id": "HDY7hKs490UH"
      },
      "source": [
        "!apt-get install swi-prolog -qqq > /dev/null"
      ],
      "execution_count": 5,
      "outputs": []
    },
    {
      "cell_type": "markdown",
      "source": [
        "### Installing Prolexa\n",
        "Same error as on the branch on the forked branch https://github.com/simply-logical/ComputationalLogic/"
      ],
      "metadata": {
        "id": "XzTl4S4QtwnC"
      }
    },
    {
      "cell_type": "code",
      "metadata": {
        "id": "LGMiAYLm77DC"
      },
      "source": [
        "!yes | pip install --upgrade git+https://github.com/isabelladegen/ComputationalLogic/ -qqq > /dev/null"
      ],
      "execution_count": 6,
      "outputs": []
    },
    {
      "cell_type": "markdown",
      "metadata": {
        "id": "4Q1TuvlXBFpA"
      },
      "source": [
        "### Functions to call Prolexa directly\n",
        "\n",
        "These are not using the meta_grammar from Prolexa, meaning that no know proper nouns can be added\n"
      ]
    },
    {
      "cell_type": "code",
      "metadata": {
        "id": "un81VxmqzUMx"
      },
      "source": [
        "import os\n",
        "import inspect\n",
        "from pyswip import Prolog\n",
        "PROLOG_PATH = '/usr/local/lib/python3.7/dist-packages/prolexa/prolog/'\n",
        "\n",
        "\n",
        "pl = Prolog()\n",
        "\n",
        "def initialise_prolexa():\n",
        "  pl.consult(os.path.join(PROLOG_PATH, 'prolexa.pl'))\n",
        "\n",
        "def query(input): #also inspired from prolexa\n",
        "  initialise_prolexa()\n",
        "  libPrefix = 'prolexa:'\n",
        "  generator = pl.query(libPrefix + handle_utterance_str(input))\n",
        "  answer = list(generator)[0]['Output']\n",
        "  if isinstance(answer, str):\n",
        "    return answer\n",
        "  return str(answer, 'utf-8')\n",
        "\n",
        "def handle_utterance_str(text): #this is from the meta_grammar from prolexa plus!\n",
        "    if text[0] != \"'\" and text[0] != '\"' :\n",
        "        text = f'\"{text}\"'\n",
        "\n",
        "    text = text.replace('\"', '\\\"')\n",
        "    text = text.replace(\"'\", '\\\"')\n",
        "\n",
        "    return 'handle_utterance(1,{},Output)'.format(text)"
      ],
      "execution_count": 7,
      "outputs": []
    },
    {
      "cell_type": "code",
      "source": [
        "# import prolexa.meta_grammar as meta\n",
        "# print(meta.PROLOG_PATH)\n",
        "# inspect.getfile(pyswip.py)\n",
        "# # /usr/lib/python3.7/dist-packages/prolexa/prolog/prolexa.pl\n",
        "# # /usr/local/lib/python3.7/dist-packages/prolexa/prolog\n"
      ],
      "metadata": {
        "id": "u2CwxS_cw3nt"
      },
      "execution_count": 8,
      "outputs": []
    },
    {
      "cell_type": "code",
      "source": [
        "query('Tell me all')"
      ],
      "metadata": {
        "colab": {
          "base_uri": "https://localhost:8080/",
          "height": 35
        },
        "id": "k0tu1RvCnbgn",
        "outputId": "46cfe982-3709-4f02-a9f6-4ab023b42fa5"
      },
      "execution_count": 9,
      "outputs": [
        {
          "output_type": "execute_result",
          "data": {
            "application/vnd.google.colaboratory.intrinsic+json": {
              "type": "string"
            },
            "text/plain": [
              "'every human is mortal. peter is human. some birds fly. penguins dont fly. every penguin is a bird. opus is a penguin. peep is a bird'"
            ]
          },
          "metadata": {},
          "execution_count": 9
        }
      ]
    },
    {
      "cell_type": "markdown",
      "source": [
        "###  Some Helper functions to make the tests easier to read"
      ],
      "metadata": {
        "id": "L2TcmLRB_CZB"
      }
    },
    {
      "cell_type": "code",
      "source": [
        "def test(input, expected_answer):\n",
        "  print(f'Query: {input}')\n",
        "  actual_answer = query(input)\n",
        "  print(f'Answer: {actual_answer}\\n')\n",
        "  assert actual_answer == expected_answer, 'Expected Answer:  ' + expected_answer + '\\n Actual answer: ' + actual_answer\n",
        "\n",
        "def cleanup():\n",
        "  query('forget everything')\n",
        "  initialise_prolexa()\n"
      ],
      "metadata": {
        "id": "biUdfuFgwwxd"
      },
      "execution_count": 10,
      "outputs": []
    },
    {
      "cell_type": "markdown",
      "metadata": {
        "id": "UsWtwSz2BX9l"
      },
      "source": [
        "### Testing existing functionality\n",
        "\n",
        "Syntax: `test(input_query, expected_answer)`\n",
        "\n",
        "Be careful not to add new nouns to Prolexa. The `forget all` method currently deletes all the rules about that noun but not the noun itself"
      ]
    },
    {
      "cell_type": "code",
      "metadata": {
        "id": "J-_HAtkIm19i",
        "colab": {
          "base_uri": "https://localhost:8080/"
        },
        "outputId": "ff98613c-649e-4ba0-945f-ab4e503c92cb"
      },
      "source": [
        "#Tell me about... queries\n",
        "print(\"Test 'Tell me about...' queries:\\n\")\n",
        "test('Tell me all', 'every human is mortal. peter is human. some birds fly. penguins dont fly. every penguin is a bird. opus is a penguin. peep is a bird') #extened with new rules added to prolexa\n",
        "test('tell me about unknownnoun', 'I heard you say,  tell me about unknownnoun , could you rephrase that please?')\n",
        "test('tell me about tweety', 'I know nothing about tweety')\n",
        "test('tell me about peter', 'peter is human. peter is mortal')\n",
        "test('Spill the beans', 'every human is mortal. peter is human. some birds fly. penguins dont fly. every penguin is a bird. opus is a penguin. peep is a bird')\n",
        "\n",
        "#Is... queries\n",
        "print(\"\\nTest 'Is...' queries:\\n\")\n",
        "test('Is unkownnoun human', 'I heard you say,  Is unkownnoun human , could you rephrase that please?')\n",
        "test('Is tweety a bird', 'Sorry, I don\\'t think this is the case')\n",
        "test('Is peter mortal', 'peter is mortal')\n",
        "test('Is peter human', 'peter is human')\n",
        "test('Who is human', 'peter is human')\n",
        "test('Who is a bird', 'opus is a bird')\n",
        "test('Does tweety fly', 'Sorry, I don\\'t think this is the case')\n",
        "\n",
        "#Explain... queries\n",
        "print(\"\\nTest 'Is...' queries:\\n\")\n",
        "test('Explain why unknownnoun is mortal', 'I heard you say,  Explain why unknownnoun is mortal , could you rephrase that please?')\n",
        "test('Explain why tweety is a bird','Sorry, I don\\'t think this is the case')\n",
        "test('Explain why peter is mortal', 'peter is human; every human is mortal; therefore peter is mortal')\n",
        "\n",
        "#Adding new rules and forgeting rules\n",
        "print(\"\\nTest adding new rules:\\n\")\n",
        "test('Peter is mortal', 'I already knew that Peter is mortal')\n",
        "\n",
        "#add a rule and forget it again\n",
        "test('Tweety is a bird', 'I will remember that Tweety is a bird')\n",
        "test('Is tweety a bird', 'tweety is a bird')\n",
        "# test('all birds tweet', 'I will remember that all birds tweet') NO longer works called directly\n",
        "#test('Does tweety tweet', 'tweety tweets')\n",
        "#test('Explain why tweety tweets', 'tweety is a bird; every bird is a tweet; therefore tweety is a tweet') #TODO notice the really odd transaltion <a tweet>, the comandline does not do this\n",
        "test('Tell me all about tweety', 'tweety is a bird. tweety flies') \n",
        "test('Forget that tweety is a bird', 'I erased it from my memory')\n",
        "test('tell me all about tweety', 'I know nothing about tweety')\n",
        "test('Is tweety a bird', 'Sorry, I don\\'t think this is the case')\n",
        "test('Does tweety fly', 'Sorry, I don\\'t think this is the case')\n"
      ],
      "execution_count": 11,
      "outputs": [
        {
          "output_type": "stream",
          "name": "stdout",
          "text": [
            "Test 'Tell me about...' queries:\n",
            "\n",
            "Query: Tell me all\n",
            "Answer: every human is mortal. peter is human. some birds fly. penguins dont fly. every penguin is a bird. opus is a penguin. peep is a bird\n",
            "\n",
            "Query: tell me about unknownnoun\n",
            "Answer: I heard you say,  tell me about unknownnoun , could you rephrase that please?\n",
            "\n",
            "Query: tell me about tweety\n",
            "Answer: I know nothing about tweety\n",
            "\n",
            "Query: tell me about peter\n",
            "Answer: peter is human. peter is mortal\n",
            "\n",
            "Query: Spill the beans\n",
            "Answer: every human is mortal. peter is human. some birds fly. penguins dont fly. every penguin is a bird. opus is a penguin. peep is a bird\n",
            "\n",
            "\n",
            "Test 'Is...' queries:\n",
            "\n",
            "Query: Is unkownnoun human\n",
            "Answer: I heard you say,  Is unkownnoun human , could you rephrase that please?\n",
            "\n",
            "Query: Is tweety a bird\n",
            "Answer: Sorry, I don't think this is the case\n",
            "\n",
            "Query: Is peter mortal\n",
            "Answer: peter is mortal\n",
            "\n",
            "Query: Is peter human\n",
            "Answer: peter is human\n",
            "\n",
            "Query: Who is human\n",
            "Answer: peter is human\n",
            "\n",
            "Query: Who is a bird\n",
            "Answer: opus is a bird\n",
            "\n",
            "Query: Does tweety fly\n",
            "Answer: Sorry, I don't think this is the case\n",
            "\n",
            "\n",
            "Test 'Is...' queries:\n",
            "\n",
            "Query: Explain why unknownnoun is mortal\n",
            "Answer: I heard you say,  Explain why unknownnoun is mortal , could you rephrase that please?\n",
            "\n",
            "Query: Explain why tweety is a bird\n",
            "Answer: Sorry, I don't think this is the case\n",
            "\n",
            "Query: Explain why peter is mortal\n",
            "Answer: peter is human; every human is mortal; therefore peter is mortal\n",
            "\n",
            "\n",
            "Test adding new rules:\n",
            "\n",
            "Query: Peter is mortal\n",
            "Answer: I already knew that Peter is mortal\n",
            "\n",
            "Query: Tweety is a bird\n",
            "Answer: I will remember that Tweety is a bird\n",
            "\n",
            "Query: Is tweety a bird\n",
            "Answer: tweety is a bird\n",
            "\n",
            "Query: Tell me all about tweety\n",
            "Answer: tweety is a bird. tweety flies\n",
            "\n",
            "Query: Forget that tweety is a bird\n",
            "Answer: I erased it from my memory\n",
            "\n",
            "Query: tell me all about tweety\n",
            "Answer: I know nothing about tweety\n",
            "\n",
            "Query: Is tweety a bird\n",
            "Answer: Sorry, I don't think this is the case\n",
            "\n",
            "Query: Does tweety fly\n",
            "Answer: Sorry, I don't think this is the case\n",
            "\n"
          ]
        }
      ]
    },
    {
      "cell_type": "markdown",
      "source": [
        "# Testing new functionality\n"
      ],
      "metadata": {
        "id": "VV4uPEzaUhL-"
      }
    },
    {
      "cell_type": "markdown",
      "source": [
        "### Default Reasoning"
      ],
      "metadata": {
        "id": "gTzFjICoUqgb"
      }
    },
    {
      "cell_type": "code",
      "source": [
        "cleanup()\n",
        "#Testing new rules\n",
        "test('Tell me about opus', 'opus is a bird. opus is a penguin. opus doesnt fly')\n",
        "test('Tell me about peep', 'peep is a bird. peep flies')\n",
        "test('Is opus a bird', 'opus is a bird')\n",
        "test('Is peep a bird', 'peep is a bird')\n",
        "test('Is opus a penguin', 'opus is a penguin')\n",
        "test('Is peep a penguin', 'Sorry, I don\\'t think this is the case')\n",
        "\n",
        "#Tweety is not defined as a bird so\n",
        "test('Explain why tweety flies', 'Sorry, I don\\'t think this is the case')\n",
        "cleanup()\n",
        "test('Explain why peep flies', 'peep is a bird; some birds fly; therefore peep flies') \n",
        "\n",
        "\n",
        "#test('Spill the beans', 'every human is mortal. peter is human. penguins arent flys. every bird is a fly. every penguin is a bird. opus is a penguin. peep is a bird')\n",
        "cleanup()\n"
      ],
      "metadata": {
        "colab": {
          "base_uri": "https://localhost:8080/"
        },
        "id": "UuSpkOQFHfO3",
        "outputId": "c9f692ef-1828-439a-f068-deac6178022f"
      },
      "execution_count": 12,
      "outputs": [
        {
          "output_type": "stream",
          "name": "stdout",
          "text": [
            "Query: Tell me about opus\n",
            "Answer: opus is a bird. opus is a penguin. opus doesnt fly\n",
            "\n",
            "Query: Tell me about peep\n",
            "Answer: peep is a bird. peep flies\n",
            "\n",
            "Query: Is opus a bird\n",
            "Answer: opus is a bird\n",
            "\n",
            "Query: Is peep a bird\n",
            "Answer: peep is a bird\n",
            "\n",
            "Query: Is opus a penguin\n",
            "Answer: opus is a penguin\n",
            "\n",
            "Query: Is peep a penguin\n",
            "Answer: Sorry, I don't think this is the case\n",
            "\n",
            "Query: Explain why tweety flies\n",
            "Answer: Sorry, I don't think this is the case\n",
            "\n",
            "Query: Explain why peep flies\n",
            "Answer: peep is a bird; some birds fly; therefore peep flies\n",
            "\n"
          ]
        }
      ]
    },
    {
      "cell_type": "code",
      "source": [
        "cleanup()\n",
        "print(query('tweety flies'))\n",
        "print(query('tell me all'))\n",
        "cleanup()\n",
        "print(query('tell me all'))\n"
      ],
      "metadata": {
        "colab": {
          "base_uri": "https://localhost:8080/"
        },
        "id": "gFM8SP8v_kgl",
        "outputId": "3271a498-d8bd-42d8-e7c0-21c3a52a7d0f"
      },
      "execution_count": 13,
      "outputs": [
        {
          "output_type": "stream",
          "name": "stdout",
          "text": [
            "I will remember that tweety flies\n",
            "every human is mortal. peter is human. some birds fly. penguins dont fly. every penguin is a bird. opus is a penguin. peep is a bird. tweety flies\n",
            "every human is mortal. peter is human. some birds fly. penguins dont fly. every penguin is a bird. opus is a penguin. peep is a bird\n"
          ]
        }
      ]
    },
    {
      "cell_type": "markdown",
      "source": [
        "###  Ideas for new funtionality\n",
        " Combine queryies test('Is peter human and mortal', 'peter is human')\n",
        "\n",
        " test('Is tweety a bird', 'tweety is a bird')\n",
        "test('Birds fly', 'I will remember that birds fly')\n",
        "test('Does tweety fly', 'tweety flies')\n"
      ],
      "metadata": {
        "id": "Vih2E-0S_ei_"
      }
    },
    {
      "cell_type": "code",
      "source": [
        "#Interesting error about Tweety flies\n",
        "# print(query('tell me all'))\n",
        "# print(query('tweety flies'))\n",
        "# print(query('tell me all'))"
      ],
      "metadata": {
        "id": "HKPh7x87_dkr"
      },
      "execution_count": 14,
      "outputs": []
    },
    {
      "cell_type": "markdown",
      "source": [
        "Interestingly this problem does not exist if run directly in the backend and it correctly says:\n",
        "```\n",
        "prolexa> \"Tweety flies\".\n",
        "*** utterance(Tweety flies)\n",
        "*** rule([(fly(tweety):-true)])\n",
        "*** answer(I will remember that Tweety flies)\n",
        "I will remember that Tweety flies\n",
        "*** utterance(Tell me all)\n",
        "*** goal(all_rules(_77782))\n",
        "*** answer(every human is mortal. peter is human. tweety flies)\n",
        "every human is mortal. peter is human. tweety flies\n",
        "```"
      ],
      "metadata": {
        "id": "wU4wdG3IXUpV"
      }
    },
    {
      "cell_type": "code",
      "metadata": {
        "id": "YIQ9Af5p_S1-",
        "colab": {
          "base_uri": "https://localhost:8080/"
        },
        "outputId": "f44b9437-dd4a-48f6-8403-c01b4a4b9351"
      },
      "source": [
        "print(query(\"tweety is a bird\"))\n",
        "print(query('tell me all'))\n",
        "print(query('Tell me all about tweety'))\n",
        "print(query('Does tweety fly'))\n",
        "cleanup()\n",
        "print(query('Does tweety fly'))\n",
        "cleanup()\n",
        "print(query('Explain why tweety flies'))"
      ],
      "execution_count": 15,
      "outputs": [
        {
          "output_type": "stream",
          "name": "stdout",
          "text": [
            "I will remember that tweety is a bird\n",
            "every human is mortal. peter is human. some birds fly. penguins dont fly. every penguin is a bird. opus is a penguin. peep is a bird. tweety is a bird\n",
            "tweety is a bird. tweety flies\n",
            "tweety flies\n",
            "Sorry, I don't think this is the case\n",
            "Sorry, I don't think this is the case\n"
          ]
        }
      ]
    },
    {
      "cell_type": "code",
      "source": [
        ""
      ],
      "metadata": {
        "id": "uaHdoiI3hEX4"
      },
      "execution_count": 15,
      "outputs": []
    },
    {
      "cell_type": "code",
      "source": [
        "print(query('All birds fly'))\n",
        "print(query('tell me all about tweety'))\n",
        "print(query('does tweety fly'))"
      ],
      "metadata": {
        "colab": {
          "base_uri": "https://localhost:8080/"
        },
        "id": "slB-OrgYiZLY",
        "outputId": "542be0da-9f71-46f0-d8c1-f182773391bf"
      },
      "execution_count": 16,
      "outputs": [
        {
          "output_type": "stream",
          "name": "stdout",
          "text": [
            "I will remember that All birds fly\n",
            "I know nothing about tweety\n",
            "Sorry, I don't think this is the case\n"
          ]
        }
      ]
    },
    {
      "cell_type": "code",
      "source": [
        "#Prove\n",
        "#test('Prove Peter is human', '')"
      ],
      "metadata": {
        "id": "cuukGGW_ic2w"
      },
      "execution_count": 17,
      "outputs": []
    },
    {
      "cell_type": "code",
      "source": [
        ""
      ],
      "metadata": {
        "id": "MmjIyorDpyum"
      },
      "execution_count": 17,
      "outputs": []
    }
  ]
}