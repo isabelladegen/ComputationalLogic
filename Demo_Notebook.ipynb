{
  "nbformat": 4,
  "nbformat_minor": 0,
  "metadata": {
    "colab": {
      "name": "Demo_Notebook.ipynb",
      "provenance": [],
      "collapsed_sections": [],
      "toc_visible": true,
      "include_colab_link": true
    },
    "kernelspec": {
      "display_name": "Python 3",
      "name": "python3"
    },
    "language_info": {
      "name": "python"
    },
    "widgets": {
      "application/vnd.jupyter.widget-state+json": {
        "5070f98726a64e1caf2e276b88e51ae7": {
          "model_module": "@jupyter-widgets/controls",
          "model_name": "VBoxModel",
          "model_module_version": "1.5.0",
          "state": {
            "_view_name": "VBoxView",
            "_dom_classes": [],
            "_model_name": "VBoxModel",
            "_view_module": "@jupyter-widgets/controls",
            "_model_module_version": "1.5.0",
            "_view_count": null,
            "_view_module_version": "1.5.0",
            "box_style": "",
            "layout": "IPY_MODEL_18a8c43f0f8f42528352caef88f87a73",
            "_model_module": "@jupyter-widgets/controls",
            "children": [
              "IPY_MODEL_a04d9d4a63d94077924ff735f321ff80",
              "IPY_MODEL_ef9abbf6cbbe48b19a311d8a924c375a",
              "IPY_MODEL_39831568c3a84ab094adf72f23e66930"
            ]
          }
        },
        "18a8c43f0f8f42528352caef88f87a73": {
          "model_module": "@jupyter-widgets/base",
          "model_name": "LayoutModel",
          "model_module_version": "1.2.0",
          "state": {
            "_view_name": "LayoutView",
            "grid_template_rows": null,
            "right": null,
            "justify_content": null,
            "_view_module": "@jupyter-widgets/base",
            "overflow": null,
            "_model_module_version": "1.2.0",
            "_view_count": null,
            "flex_flow": null,
            "width": null,
            "min_width": null,
            "border": null,
            "align_items": null,
            "bottom": null,
            "_model_module": "@jupyter-widgets/base",
            "top": null,
            "grid_column": null,
            "overflow_y": null,
            "overflow_x": null,
            "grid_auto_flow": null,
            "grid_area": null,
            "grid_template_columns": null,
            "flex": null,
            "_model_name": "LayoutModel",
            "justify_items": null,
            "grid_row": null,
            "max_height": null,
            "align_content": null,
            "visibility": null,
            "align_self": null,
            "height": null,
            "min_height": null,
            "padding": null,
            "grid_auto_rows": null,
            "grid_gap": null,
            "max_width": null,
            "order": null,
            "_view_module_version": "1.2.0",
            "grid_template_areas": null,
            "object_position": null,
            "object_fit": null,
            "grid_auto_columns": null,
            "margin": null,
            "display": null,
            "left": null
          }
        },
        "a04d9d4a63d94077924ff735f321ff80": {
          "model_module": "@jupyter-widgets/controls",
          "model_name": "TextModel",
          "model_module_version": "1.5.0",
          "state": {
            "_view_name": "TextView",
            "style": "IPY_MODEL_4db43357f7834eff824a337f2f379e13",
            "_dom_classes": [],
            "description": "Question:",
            "_model_name": "TextModel",
            "placeholder": "Enter a query",
            "_view_module": "@jupyter-widgets/controls",
            "_model_module_version": "1.5.0",
            "value": "Tell me all",
            "_view_count": null,
            "disabled": false,
            "_view_module_version": "1.5.0",
            "continuous_update": true,
            "description_tooltip": null,
            "_model_module": "@jupyter-widgets/controls",
            "layout": "IPY_MODEL_088c119a243f432d9ef892e77a08052b"
          }
        },
        "ef9abbf6cbbe48b19a311d8a924c375a": {
          "model_module": "@jupyter-widgets/controls",
          "model_name": "HBoxModel",
          "model_module_version": "1.5.0",
          "state": {
            "_view_name": "HBoxView",
            "_dom_classes": [],
            "_model_name": "HBoxModel",
            "_view_module": "@jupyter-widgets/controls",
            "_model_module_version": "1.5.0",
            "_view_count": null,
            "_view_module_version": "1.5.0",
            "box_style": "",
            "layout": "IPY_MODEL_bfc156e477f94f329d09f265154b2a14",
            "_model_module": "@jupyter-widgets/controls",
            "children": [
              "IPY_MODEL_073f264e88a743dfbed4d87b9937c84a",
              "IPY_MODEL_c2f50597bc1a416f80f8aa550da5df67"
            ]
          }
        },
        "39831568c3a84ab094adf72f23e66930": {
          "model_module": "@jupyter-widgets/output",
          "model_name": "OutputModel",
          "model_module_version": "1.0.0",
          "state": {
            "_view_name": "OutputView",
            "msg_id": "",
            "_dom_classes": [],
            "_model_name": "OutputModel",
            "outputs": [],
            "_view_module": "@jupyter-widgets/output",
            "_model_module_version": "1.0.0",
            "_view_count": null,
            "_view_module_version": "1.0.0",
            "layout": "IPY_MODEL_f455edeb8a034de59e48337e6aeedd65",
            "_model_module": "@jupyter-widgets/output"
          }
        },
        "4db43357f7834eff824a337f2f379e13": {
          "model_module": "@jupyter-widgets/controls",
          "model_name": "DescriptionStyleModel",
          "model_module_version": "1.5.0",
          "state": {
            "_view_name": "StyleView",
            "_model_name": "DescriptionStyleModel",
            "description_width": "",
            "_view_module": "@jupyter-widgets/base",
            "_model_module_version": "1.5.0",
            "_view_count": null,
            "_view_module_version": "1.2.0",
            "_model_module": "@jupyter-widgets/controls"
          }
        },
        "088c119a243f432d9ef892e77a08052b": {
          "model_module": "@jupyter-widgets/base",
          "model_name": "LayoutModel",
          "model_module_version": "1.2.0",
          "state": {
            "_view_name": "LayoutView",
            "grid_template_rows": null,
            "right": null,
            "justify_content": null,
            "_view_module": "@jupyter-widgets/base",
            "overflow": null,
            "_model_module_version": "1.2.0",
            "_view_count": null,
            "flex_flow": null,
            "width": "900px",
            "min_width": null,
            "border": null,
            "align_items": null,
            "bottom": null,
            "_model_module": "@jupyter-widgets/base",
            "top": null,
            "grid_column": null,
            "overflow_y": null,
            "overflow_x": null,
            "grid_auto_flow": null,
            "grid_area": null,
            "grid_template_columns": null,
            "flex": null,
            "_model_name": "LayoutModel",
            "justify_items": null,
            "grid_row": null,
            "max_height": null,
            "align_content": null,
            "visibility": null,
            "align_self": null,
            "height": "50px",
            "min_height": null,
            "padding": null,
            "grid_auto_rows": null,
            "grid_gap": null,
            "max_width": null,
            "order": null,
            "_view_module_version": "1.2.0",
            "grid_template_areas": null,
            "object_position": null,
            "object_fit": null,
            "grid_auto_columns": null,
            "margin": null,
            "display": null,
            "left": null
          }
        },
        "bfc156e477f94f329d09f265154b2a14": {
          "model_module": "@jupyter-widgets/base",
          "model_name": "LayoutModel",
          "model_module_version": "1.2.0",
          "state": {
            "_view_name": "LayoutView",
            "grid_template_rows": null,
            "right": null,
            "justify_content": null,
            "_view_module": "@jupyter-widgets/base",
            "overflow": null,
            "_model_module_version": "1.2.0",
            "_view_count": null,
            "flex_flow": null,
            "width": null,
            "min_width": null,
            "border": null,
            "align_items": null,
            "bottom": null,
            "_model_module": "@jupyter-widgets/base",
            "top": null,
            "grid_column": null,
            "overflow_y": null,
            "overflow_x": null,
            "grid_auto_flow": null,
            "grid_area": null,
            "grid_template_columns": null,
            "flex": null,
            "_model_name": "LayoutModel",
            "justify_items": null,
            "grid_row": null,
            "max_height": null,
            "align_content": null,
            "visibility": null,
            "align_self": null,
            "height": null,
            "min_height": null,
            "padding": null,
            "grid_auto_rows": null,
            "grid_gap": null,
            "max_width": null,
            "order": null,
            "_view_module_version": "1.2.0",
            "grid_template_areas": null,
            "object_position": null,
            "object_fit": null,
            "grid_auto_columns": null,
            "margin": null,
            "display": null,
            "left": null
          }
        },
        "073f264e88a743dfbed4d87b9937c84a": {
          "model_module": "@jupyter-widgets/controls",
          "model_name": "ButtonModel",
          "model_module_version": "1.5.0",
          "state": {
            "_view_name": "ButtonView",
            "style": "IPY_MODEL_2d93d3e2702b4b29b381b4d8a58d69d3",
            "_dom_classes": [],
            "description": "Ask",
            "_model_name": "ButtonModel",
            "button_style": "info",
            "_view_module": "@jupyter-widgets/controls",
            "_model_module_version": "1.5.0",
            "tooltip": "",
            "_view_count": null,
            "disabled": false,
            "_view_module_version": "1.5.0",
            "layout": "IPY_MODEL_f4603633f16c4955a4cdc4b0906e8d7d",
            "_model_module": "@jupyter-widgets/controls",
            "icon": ""
          }
        },
        "c2f50597bc1a416f80f8aa550da5df67": {
          "model_module": "@jupyter-widgets/controls",
          "model_name": "ButtonModel",
          "model_module_version": "1.5.0",
          "state": {
            "_view_name": "ButtonView",
            "style": "IPY_MODEL_5a1fef12d7f94fb98dea07511faa3cae",
            "_dom_classes": [],
            "description": "Reset Rules",
            "_model_name": "ButtonModel",
            "button_style": "",
            "_view_module": "@jupyter-widgets/controls",
            "_model_module_version": "1.5.0",
            "tooltip": "",
            "_view_count": null,
            "disabled": false,
            "_view_module_version": "1.5.0",
            "layout": "IPY_MODEL_2692911d6bfb4b318585285b50eaedc7",
            "_model_module": "@jupyter-widgets/controls",
            "icon": ""
          }
        },
        "2d93d3e2702b4b29b381b4d8a58d69d3": {
          "model_module": "@jupyter-widgets/controls",
          "model_name": "ButtonStyleModel",
          "model_module_version": "1.5.0",
          "state": {
            "_view_name": "StyleView",
            "_model_name": "ButtonStyleModel",
            "_view_module": "@jupyter-widgets/base",
            "_model_module_version": "1.5.0",
            "_view_count": null,
            "button_color": null,
            "font_weight": "",
            "_view_module_version": "1.2.0",
            "_model_module": "@jupyter-widgets/controls"
          }
        },
        "f4603633f16c4955a4cdc4b0906e8d7d": {
          "model_module": "@jupyter-widgets/base",
          "model_name": "LayoutModel",
          "model_module_version": "1.2.0",
          "state": {
            "_view_name": "LayoutView",
            "grid_template_rows": null,
            "right": null,
            "justify_content": null,
            "_view_module": "@jupyter-widgets/base",
            "overflow": null,
            "_model_module_version": "1.2.0",
            "_view_count": null,
            "flex_flow": null,
            "width": null,
            "min_width": null,
            "border": null,
            "align_items": null,
            "bottom": null,
            "_model_module": "@jupyter-widgets/base",
            "top": null,
            "grid_column": null,
            "overflow_y": null,
            "overflow_x": null,
            "grid_auto_flow": null,
            "grid_area": null,
            "grid_template_columns": null,
            "flex": null,
            "_model_name": "LayoutModel",
            "justify_items": null,
            "grid_row": null,
            "max_height": null,
            "align_content": null,
            "visibility": null,
            "align_self": null,
            "height": null,
            "min_height": null,
            "padding": null,
            "grid_auto_rows": null,
            "grid_gap": null,
            "max_width": null,
            "order": null,
            "_view_module_version": "1.2.0",
            "grid_template_areas": null,
            "object_position": null,
            "object_fit": null,
            "grid_auto_columns": null,
            "margin": "4px 0px 0px 90px",
            "display": null,
            "left": null
          }
        },
        "5a1fef12d7f94fb98dea07511faa3cae": {
          "model_module": "@jupyter-widgets/controls",
          "model_name": "ButtonStyleModel",
          "model_module_version": "1.5.0",
          "state": {
            "_view_name": "StyleView",
            "_model_name": "ButtonStyleModel",
            "_view_module": "@jupyter-widgets/base",
            "_model_module_version": "1.5.0",
            "_view_count": null,
            "button_color": null,
            "font_weight": "",
            "_view_module_version": "1.2.0",
            "_model_module": "@jupyter-widgets/controls"
          }
        },
        "2692911d6bfb4b318585285b50eaedc7": {
          "model_module": "@jupyter-widgets/base",
          "model_name": "LayoutModel",
          "model_module_version": "1.2.0",
          "state": {
            "_view_name": "LayoutView",
            "grid_template_rows": null,
            "right": null,
            "justify_content": null,
            "_view_module": "@jupyter-widgets/base",
            "overflow": null,
            "_model_module_version": "1.2.0",
            "_view_count": null,
            "flex_flow": null,
            "width": null,
            "min_width": null,
            "border": null,
            "align_items": null,
            "bottom": null,
            "_model_module": "@jupyter-widgets/base",
            "top": null,
            "grid_column": null,
            "overflow_y": null,
            "overflow_x": null,
            "grid_auto_flow": null,
            "grid_area": null,
            "grid_template_columns": null,
            "flex": null,
            "_model_name": "LayoutModel",
            "justify_items": null,
            "grid_row": null,
            "max_height": null,
            "align_content": null,
            "visibility": null,
            "align_self": null,
            "height": null,
            "min_height": null,
            "padding": null,
            "grid_auto_rows": null,
            "grid_gap": null,
            "max_width": null,
            "order": null,
            "_view_module_version": "1.2.0",
            "grid_template_areas": null,
            "object_position": null,
            "object_fit": null,
            "grid_auto_columns": null,
            "margin": "4px 0px 0px 5px",
            "display": null,
            "left": null
          }
        },
        "f455edeb8a034de59e48337e6aeedd65": {
          "model_module": "@jupyter-widgets/base",
          "model_name": "LayoutModel",
          "model_module_version": "1.2.0",
          "state": {
            "_view_name": "LayoutView",
            "grid_template_rows": null,
            "right": null,
            "justify_content": null,
            "_view_module": "@jupyter-widgets/base",
            "overflow": null,
            "_model_module_version": "1.2.0",
            "_view_count": null,
            "flex_flow": null,
            "width": "1000px",
            "min_width": null,
            "border": "1px solid black",
            "align_items": null,
            "bottom": null,
            "_model_module": "@jupyter-widgets/base",
            "top": null,
            "grid_column": null,
            "overflow_y": null,
            "overflow_x": null,
            "grid_auto_flow": null,
            "grid_area": null,
            "grid_template_columns": null,
            "flex": null,
            "_model_name": "LayoutModel",
            "justify_items": null,
            "grid_row": null,
            "max_height": null,
            "align_content": null,
            "visibility": null,
            "align_self": null,
            "height": null,
            "min_height": null,
            "padding": null,
            "grid_auto_rows": null,
            "grid_gap": null,
            "max_width": null,
            "order": null,
            "_view_module_version": "1.2.0",
            "grid_template_areas": null,
            "object_position": null,
            "object_fit": null,
            "grid_auto_columns": null,
            "margin": "10px",
            "display": null,
            "left": null
          }
        }
      }
    }
  },
  "cells": [
    {
      "cell_type": "markdown",
      "metadata": {
        "id": "view-in-github",
        "colab_type": "text"
      },
      "source": [
        "<a href=\"https://colab.research.google.com/github/isabelladegen/ComputationalLogic/blob/prolexa-plus/Demo_Notebook.ipynb\" target=\"_parent\"><img src=\"https://colab.research.google.com/assets/colab-badge.svg\" alt=\"Open In Colab\"/></a>"
      ]
    },
    {
      "cell_type": "markdown",
      "metadata": {
        "id": "i0vSCAwPAleW"
      },
      "source": [
        "#Prolexa Coursework Demo Notebook - Isabella\n",
        "\n",
        "This notebook is used to:\n",
        "\n",
        "1. Demonstrate the new functionality added to Prolexa\n",
        "2. Test the existing functionalty to ensure I didn't break it\n",
        "\n",
        "The setup of Prolexa is copied from the Prolexa_Plus_Demo_Notebook.ipynb. However this notebook does not use Prolexa Plus and instead direclty calls Prolexa. Due to not using Prolexa Plus, **proper nouns** cannot be added to prolexa.  New rules about existing proper nouns can still be added.\n",
        "\n",
        "### Notebook Structure:\n",
        "\n",
        "- Installation & Setup: \n",
        "  - installs prolog, prolexa and define query functions\n",
        "- Testing Existing and New Functionality: \n",
        "  - defines test helper functions ```test()``` & ```cleanup()```\n",
        "  - collection of test queries for the existing and new functionality\n",
        "- Tru yourself! \n",
        "  - widget to interact with Prolexa and try out the changes\n",
        "\n",
        "\n",
        "\n",
        "\n",
        "\n",
        "### Prolexa's starting knowledge:\n",
        "**Proper Nouns:** see [prolexa_grammar.pl](https://github.com/isabelladegen/ComputationalLogic/blob/prolexa-plus/prolexa/prolog/prolexa_grammar.pl)\n",
        ">```\n",
        "proper_noun(s,tweety) --> [tweety].\n",
        "proper_noun(s,peter) --> [peter].\n",
        "proper_noun(s,opus) --> [opus].\n",
        "proper_noun(s,peep) --> [peep].\n",
        "```\n",
        "\n",
        "**Rules:** see [prolexa.pl](https://github.com/isabelladegen/ComputationalLogic/blob/prolexa-plus/prolexa/prolog/prolexa.pl)\n",
        "\n",
        "> ```\n",
        "  %some intial stored rules\n",
        "  stored_rule(1,[(mortal(X):-human(X))]).\n",
        "  stored_rule(1,[(human(peter):-true)]).\n",
        "  %additional rules for default reasoning\n",
        "  stored_rule(1,[(default(fly(X):-bird(X)))]).\n",
        "  stored_rule(1,[(not fly(X):-penguin(X))]).\n",
        "  stored_rule(1,[(bird(X):-penguin(X))]).\n",
        "  stored_rule(1,[(penguin(opus):-true)]).\n",
        "  stored_rule(1,[(bird(peep):-true)]).\n",
        "  ```\n",
        "\n",
        "**Grammar:** see [prolexa_grammar.pl](https://github.com/isabelladegen/ComputationalLogic/blob/prolexa-plus/prolexa/prolog/prolexa_grammar.pl)\n",
        "\n",
        ">  ```\n",
        "  pred(human, 1,[a/human,n/human]).\n",
        "  pred(mortal, 1,[a/mortal,n/mortal]).\n",
        "  pred(bird, 1,[n/bird]).\n",
        "  pred(penguin, 1,[n/penguin]).\n",
        "  pred(swan, 1,[n/swan]).\n",
        "  pred(fly, 1,[v/fly]).\n",
        "  pred(sing, 1,[v/sing]).\n",
        "  ```\n",
        "\n",
        "\n",
        "\n",
        "\n"
      ]
    },
    {
      "cell_type": "markdown",
      "source": [
        "# Installation & Setup"
      ],
      "metadata": {
        "id": "QCiG_2SG6WUw"
      }
    },
    {
      "cell_type": "markdown",
      "metadata": {
        "id": "hij-_4uHAzIj"
      },
      "source": [
        "### Install SWI-Prolog\n",
        "\n",
        "*Copied from Prolexa_Plus_Demo_Notebook.ipynb*"
      ]
    },
    {
      "cell_type": "code",
      "metadata": {
        "id": "HDY7hKs490UH",
        "colab": {
          "base_uri": "https://localhost:8080/"
        },
        "outputId": "dbd2133c-d7c8-446f-cfaf-1a0e8ea029e6"
      },
      "source": [
        "!apt-get install swi-prolog -qqq > /dev/null"
      ],
      "execution_count": 1,
      "outputs": [
        {
          "output_type": "stream",
          "name": "stdout",
          "text": [
            "Extracting templates from packages: 100%\n"
          ]
        }
      ]
    },
    {
      "cell_type": "markdown",
      "source": [
        "### Installing Prolexa\n",
        "\n",
        "Copied from Prolexa_Plus_Demo_Notebook.ipynb added **--upgrade** to always pull changes from the git repostiory\n",
        "*Same error as forked branch https://github.com/simply-logical/ComputationalLogic/*"
      ],
      "metadata": {
        "id": "XzTl4S4QtwnC"
      }
    },
    {
      "cell_type": "code",
      "metadata": {
        "id": "LGMiAYLm77DC",
        "colab": {
          "base_uri": "https://localhost:8080/"
        },
        "outputId": "22108710-1446-4f7f-9bef-ec28566c01eb"
      },
      "source": [
        "!yes | pip install --upgrade git+https://github.com/isabelladegen/ComputationalLogic/ -qqq > /dev/null"
      ],
      "execution_count": 2,
      "outputs": [
        {
          "output_type": "stream",
          "name": "stdout",
          "text": [
            "\u001b[31m  ERROR: Failed building wheel for prolexa\u001b[0m\n",
            "\u001b[33m  DEPRECATION: prolexa was installed using the legacy 'setup.py install' method, because a wheel could not be built for it. A possible replacement is to fix the wheel build issue reported above. You can find discussion regarding this at https://github.com/pypa/pip/issues/8368.\u001b[0m\n",
            "\u001b[31mERROR: pip's dependency resolver does not currently take into account all the packages that are installed. This behaviour is the source of the following dependency conflicts.\n",
            "markdown 3.3.6 requires importlib-metadata>=4.4; python_version < \"3.10\", but you have importlib-metadata 3.10.1 which is incompatible.\n",
            "google-colab 1.0.0 requires requests~=2.23.0, but you have requests 2.27.1 which is incompatible.\n",
            "datascience 0.10.6 requires folium==0.2.1, but you have folium 0.8.3 which is incompatible.\u001b[0m\n"
          ]
        }
      ]
    },
    {
      "cell_type": "markdown",
      "metadata": {
        "id": "4Q1TuvlXBFpA"
      },
      "source": [
        "### Helper Functions\n",
        "\n",
        "- Functions to call Prolexa instead of Prolexa Plus\n",
        "- Query syntax:  ```query('string')```\n"
      ]
    },
    {
      "cell_type": "code",
      "metadata": {
        "id": "un81VxmqzUMx"
      },
      "source": [
        "import os\n",
        "from pyswip import Prolog\n",
        "import site\n",
        " \n",
        "def find_prolog_path():\n",
        "  packages_paths = site.getsitepackages()\n",
        "  for ppath in packages_paths:\n",
        "    if 'prolexa' in os.listdir(ppath):\n",
        "      return os.path.join(ppath, 'prolexa/prolog')\n",
        "    else:\n",
        "      raise Exception(f'\\'prolexa\\' package was not found in {packages_path}. Did you install it?')\n",
        "                \n",
        "pl = Prolog()\n",
        "\n",
        "def initialise_prolexa():\n",
        "  pl.consult(os.path.join(find_prolog_path(), 'prolexa.pl'))\n",
        "\n",
        "def query(input): #also inspired from prolexa plus but adopted\n",
        "  initialise_prolexa()\n",
        "  libPrefix = 'prolexa:'\n",
        "  generator = pl.query(libPrefix + handle_utterance_str(input))\n",
        "  answer = list(generator)[0]['Output']\n",
        "  if isinstance(answer, str):\n",
        "    return answer\n",
        "  return str(answer, 'utf-8')\n",
        "\n",
        "def handle_utterance_str(text): #this is from the meta_grammar from prolexa plus!\n",
        "    if text[0] != \"'\" and text[0] != '\"' :\n",
        "        text = f'\"{text}\"'\n",
        "\n",
        "    text = text.replace('\"', '\\\"')\n",
        "    text = text.replace(\"'\", '\\\"')\n",
        "\n",
        "    return 'handle_utterance(1,{},Output)'.format(text)"
      ],
      "execution_count": 3,
      "outputs": []
    },
    {
      "cell_type": "code",
      "source": [
        "query('Tell me all')"
      ],
      "metadata": {
        "colab": {
          "base_uri": "https://localhost:8080/",
          "height": 52
        },
        "id": "k0tu1RvCnbgn",
        "outputId": "6a08c223-6404-4b6c-8ff0-1fe87f3ce30f"
      },
      "execution_count": 4,
      "outputs": [
        {
          "output_type": "execute_result",
          "data": {
            "application/vnd.google.colaboratory.intrinsic+json": {
              "type": "string"
            },
            "text/plain": [
              "'every human is mortal. peter is human. some birds fly. penguins dont fly. every penguin is a bird. opus is a penguin. peep is a bird'"
            ]
          },
          "metadata": {},
          "execution_count": 4
        }
      ]
    },
    {
      "cell_type": "markdown",
      "source": [
        "# Testing Existing and New Functionality\n",
        "\n",
        "You can write a new test like this: ```test('query', 'expected response')```. The test passes if the response of the query matches the expected response and fails if not.\n",
        "\n",
        "You can call ```cleanup()``` to get back to the initial state of Prolexa, e.g after adding knowledge in a test query or via a normal query."
      ],
      "metadata": {
        "id": "0u5D9B6m-xrb"
      }
    },
    {
      "cell_type": "code",
      "source": [
        "def test(input, expected_answer):\n",
        "  # print(f'Query: {input}')\n",
        "  actual_answer = query(input)\n",
        "  # print(f'Answer: {actual_answer}\\n')\n",
        "  assert actual_answer == expected_answer, 'Expected Answer:  ' + expected_answer + '\\n Actual answer: ' + actual_answer\n",
        "\n",
        "def cleanup():\n",
        "  query('forget everything')\n",
        "  initialise_prolexa()\n"
      ],
      "metadata": {
        "id": "biUdfuFgwwxd"
      },
      "execution_count": 5,
      "outputs": []
    },
    {
      "cell_type": "markdown",
      "metadata": {
        "id": "UsWtwSz2BX9l"
      },
      "source": [
        "## Test Existing Functionality\n"
      ]
    },
    {
      "cell_type": "code",
      "metadata": {
        "id": "J-_HAtkIm19i"
      },
      "source": [
        "cleanup() #start clean, in case other tests added knowledge\n",
        "#Check whats known in the stored rules\n",
        "test('Spill the beans', 'every human is mortal. peter is human. some birds fly. penguins dont fly. every penguin is a bird. opus is a penguin. peep is a bird')\n",
        "\n",
        "#Tell me about... queries\n",
        "test('Tell me all', 'every human is mortal. peter is human. some birds fly. penguins dont fly. every penguin is a bird. opus is a penguin. peep is a bird') #extened with new rules added to prolexa\n",
        "test('tell me about unknownnoun', 'I heard you say,  tell me about unknownnoun , could you rephrase that please?')\n",
        "test('tell me about tweety', 'I know nothing about tweety')\n",
        "test('tell me about peter', 'peter is human. peter is mortal')\n",
        "test('Spill the beans', 'every human is mortal. peter is human. some birds fly. penguins dont fly. every penguin is a bird. opus is a penguin. peep is a bird')\n",
        "\n",
        "#Is... queries\n",
        "test('Is unkownnoun human', 'I heard you say,  Is unkownnoun human , could you rephrase that please?')\n",
        "test('Is tweety a bird', 'Sorry, I don\\'t think this is the case')\n",
        "test('Is peter mortal', 'peter is mortal')\n",
        "test('Is peter human', 'peter is human')\n",
        "test('Who is human', 'peter is human')\n",
        "test('Who is a bird', 'opus is a bird')\n",
        "test('Does tweety fly', 'Sorry, I don\\'t think this is the case')\n",
        "\n",
        "#Explain... queries\n",
        "test('Explain why unknownnoun is mortal', 'I heard you say,  Explain why unknownnoun is mortal , could you rephrase that please?') #unkown words don't work\n",
        "test('Explain why tweety is a bird','Sorry, I don\\'t think this is the case')\n",
        "test('Explain why peter is mortal', 'peter is human; every human is mortal; therefore peter is mortal')\n",
        "\n",
        "#Adding new rules and forgeting rules\n",
        "test('Peter is mortal', 'I already knew that Peter is mortal')\n",
        "test('Tweety is a bird', 'I will remember that Tweety is a bird')\n",
        "test('Is tweety a bird', 'tweety is a bird')\n",
        "test('Tell me all about tweety', 'tweety is a bird. tweety flies') \n",
        "test('Forget that tweety is a bird', 'I erased it from my memory')\n",
        "test('tell me all about tweety', 'I know nothing about tweety')\n",
        "test('Is tweety a bird', 'Sorry, I don\\'t think this is the case')\n",
        "test('Does tweety fly', 'Sorry, I don\\'t think this is the case')\n",
        "cleanup()\n"
      ],
      "execution_count": 6,
      "outputs": []
    },
    {
      "cell_type": "markdown",
      "source": [
        "## Test New Functionality\n"
      ],
      "metadata": {
        "id": "VV4uPEzaUhL-"
      }
    },
    {
      "cell_type": "markdown",
      "source": [
        "### Default Reasoning Questions & Explanation\n",
        "\n",
        "- Introduced ability to define rules with exceptions as **default** rules:\n",
        "```stored_rule(1,[(default(fly(X):-bird(X)))]).``` These will be found last for a proof and will be explained as: *'some ns do y'* instead of *'every n is y'* or *'n do y\"*\n",
        "- Introduced negation **not** in rules to define exceptions: ```stored_rule(1,[(not fly(X):-penguin(X))]).``` which translates to *'penguins dont fly'* Question about a proper noun also include negated rules. *Note that don't is written as dont as I've not added and escaped the apostrophe. To query 'dont' and 'doesnt' has to be used.*\n",
        "- Extended explain and proof logic to explain default rules as 'some ns...' and to explain negated rules as *'ns dont do y'*\n",
        "- Extended explain logic to be able to explain negative statments: 'Explain why opus doesnt fly' &rarr; 'opus is a penguin; penguins dont fly; therefore opus doesnt fly'\n",
        "\n",
        "The tests below demonstrate these features:"
      ],
      "metadata": {
        "id": "gTzFjICoUqgb"
      }
    },
    {
      "cell_type": "code",
      "source": [
        "cleanup()\n",
        "#Check what's already known about tweety, peep and opus in the rulebase before we start adding\n",
        "test('Spill the beans', 'every human is mortal. peter is human. some birds fly. penguins dont fly. every penguin is a bird. opus is a penguin. peep is a bird')\n",
        "\n",
        "#Queries\n",
        "test('Tell me about opus', 'opus is a bird. opus is a penguin. opus doesnt fly') #reports on negated rules from other truths: not(fly(X):-penguin(X)) & penguin(opus):-true\n",
        "test('Tell me about peep', 'peep is a bird. peep flies')\n",
        "test('Is opus a bird', 'opus is a bird')\n",
        "test('Is peep a bird', 'peep is a bird')\n",
        "test('Is opus a penguin', 'opus is a penguin')\n",
        "test('Is peep a penguin', 'Sorry, I don\\'t think this is the case')\n",
        "test('Does opus fly', 'Sorry, I don\\'t think this is the case')\n",
        "test('Does peep fly','peep flies')\n",
        "\n",
        "#Explanations\n",
        "test('Explain why peep flies', 'peep is a bird; some birds fly; therefore peep flies') #explaining using default rules for flying\n",
        "test('Explain why opus flies', 'Sorry, I don\\'t think this is the case') #cannot explain that opus flies (cause opus doesn't fly)\n",
        "test('Explain why opus doesnt fly', 'opus is a penguin; penguins dont fly; therefore opus doesnt fly') #can explain that opus doesn't fly\n",
        "\n",
        "#Check what's known now\n",
        "test('Spill the beans', 'every human is mortal. peter is human. some birds fly. penguins dont fly. every penguin is a bird. opus is a penguin. peep is a bird')\n",
        "cleanup()\n"
      ],
      "metadata": {
        "id": "UuSpkOQFHfO3"
      },
      "execution_count": 15,
      "outputs": []
    },
    {
      "cell_type": "markdown",
      "source": [
        "### Creating new rules including **Default Rules**\n",
        "- You can add **default rules** about nouns like this: 'Some n do y' adds the default rule ```stored_rule(1,[(default(y(X):n(X))]).```\n",
        "- You can add **negated rules**: 'Ns dont do y' adds ```stored_rule(1,[(not y(X):-n(X))])```\n",
        "- You can continue to add normal rules about nouns: 'All ns do y' adds ```stored_rule(1,[y(X):-n(X)])```\n",
        "- For proper nouns you can continue to add rules via 'X does y'\n",
        "- If you add the same default rule multiple times it will not add it multiple times but instead also results in *'I already knew that'*\n",
        "\n",
        "**Note you cannot extend the vocabulary. The vobabulary has the verbs to sing and to fly and the proper noun Swan added for testing. There are no predefined rules about Swans and singing. There's a rule defined that Penguins dont fly.*\n",
        "\n",
        "***Keep  in mind that the rules get added to the bottom some care about ordering has to be taken.* \n"
      ],
      "metadata": {
        "id": "eJmv7u28fX5m"
      }
    },
    {
      "cell_type": "code",
      "source": [
        "cleanup()\n",
        "#Check what's already known about tweety, peep and opus in the rulebase before we start adding\n",
        "test('Spill the beans', 'every human is mortal. peter is human. some birds fly. penguins dont fly. every penguin is a bird. opus is a penguin. peep is a bird')\n",
        "test('Tell me about tweety', 'I know nothing about tweety')\n",
        "test('Tell me about peep', 'peep is a bird. peep flies')\n",
        "test('Tell me about opus', 'opus is a bird. opus is a penguin. opus doesnt fly')\n",
        "\n",
        "#Create new Default and normal rules\n",
        "test('Some birds sing', 'I will remember that Some birds sing') #adds a new default: stored_rule(1,[(default(sing(X):-bird(X)))])\n",
        "test('Swans dont sing', 'I will remember that Swans dont sing') #adds a new rule: stored_rule(1,[(not sing(X):-swan(X))])\n",
        "test('All swans are birds', 'I will remember that All swans are birds') #adds a new rule: stored_rule(1,[(bird(X):-swan(X))])\n",
        "test('Tweety is a swan', 'I will remember that Tweety is a swan') #adds a new rule: stored_rule(1,[(swan(tweety):-true)])\n",
        "#all that's known now\n",
        "test('Spill the beans', 'every human is mortal. peter is human. some birds fly. penguins dont fly. every penguin is a bird. opus is a penguin. peep is a bird. some birds sing. swans dont sing. every swan is a bird. tweety is a swan')\n",
        "\n",
        "#Ensure that adding the rules twice does not add the rules twice - (Idempotence)\n",
        "test('Some birds sing', 'I already knew that Some birds sing') #also works for default rules now\n",
        "test('Swans dont sing', 'I already knew that Swans dont sing') \n",
        "test('All swans are birds', 'I already knew that All swans are birds')\n",
        "test('Tweety is a swan', 'I already knew that Tweety is a swan')\n",
        "#all that's known now\n",
        "test('Spill the beans', 'every human is mortal. peter is human. some birds fly. penguins dont fly. every penguin is a bird. opus is a penguin. peep is a bird. some birds sing. swans dont sing. every swan is a bird. tweety is a swan')\n",
        "\n",
        "#Show what is known about all the different birds with the new rules\n",
        "test('Tell me about tweety', 'tweety is a bird. tweety is a swan. tweety flies. tweety doesnt sing')\n",
        "test('Tell me about peep', 'peep is a bird. peep flies. peep sings')\n",
        "test('Tell me about opus', 'opus is a bird. opus is a penguin. opus doesnt fly. opus sings')\n",
        "\n",
        "#Demonstrate explanations\n",
        "test('Explain why peep sings', 'peep is a bird; some birds sing; therefore peep sings')\n",
        "test('Explain why tweety doesnt sing', 'tweety is a swan; swans dont sing; therefore tweety doesnt sing') \n",
        "test('Explain why tweety flies', 'tweety is a swan; every swan is a bird; some birds fly; therefore tweety flies') \n",
        "test('Explain why opus sings', 'opus is a penguin; every penguin is a bird; some birds sing; therefore opus sings')\n",
        "\n",
        "#Demonstrate questions\n",
        "test('Does tweety sing', 'Sorry, I don\\'t think this is the case')\n",
        "test('Does opus sing', 'opus sings')\n",
        "test('Does peep sing', 'peep sings')\n",
        "\n",
        "test('Does tweety fly', 'tweety flies')\n",
        "test('Does opus fly', 'Sorry, I don\\'t think this is the case')\n",
        "test('Does peep fly', 'peep flies')\n",
        "\n",
        "test('Is tweety a bird', 'tweety is a bird')\n",
        "test('Is opus a bird', 'opus is a bird')\n",
        "test('Is peep a bird', 'peep is a bird')"
      ],
      "metadata": {
        "id": "MmjIyorDpyum"
      },
      "execution_count": 8,
      "outputs": []
    },
    {
      "cell_type": "markdown",
      "source": [
        "### Negation\n",
        "Negation has been implemented as part of default reasoning as I needed the ability to define exceptions:\n",
        "- You can add negations about a proper noun: 'Peter doesn't fly' adds a new rule ```stored_rule(1,[(not fly(peter):-true)])```\n",
        "- If a negated rule has been defined, then that rule will be included in explanations *'Explain why...'* as well as when listing all that's known *'Tell me about...'*"
      ],
      "metadata": {
        "id": "y36u3zpJq08K"
      }
    },
    {
      "cell_type": "code",
      "source": [
        "cleanup()\n",
        "#check what's already in the rulebase\n",
        "test('Tell me about Peter', 'peter is human. peter is mortal')\n",
        "\n",
        "#Create a negated fact about Peter\n",
        "test('Peter doesnt fly', 'I will remember that Peter doesnt fly') #adds a new rule: stored_rule(1,[(not fly(peter):-true)])\n",
        "test('Peter doesnt fly', 'I already knew that Peter doesnt fly') #ensure calling again doesn't add another rule\n",
        "\n",
        "#Questions\n",
        "test('Does Peter fly', 'Sorry, I don\\'t think this is the case')\n",
        "\n",
        "#check what's now known about Peter\n",
        "test('Tell me about Peter', 'peter is human. peter is mortal. peter doesnt fly')\n",
        "test('Explain why Peter doesnt fly', 'peter doesnt fly; therefore peter doesnt fly') "
      ],
      "metadata": {
        "id": "D9R_WZgkksiz"
      },
      "execution_count": 18,
      "outputs": []
    },
    {
      "cell_type": "markdown",
      "source": [
        "# Try yourself!\n",
        "\n",
        "This allows you to interact with Prolexa. The \"Reset Rules\" button resets back to the initial state. This has been adopted from Prolexa Plus Demo Notebook.ipynb to interact directly with Prolexa.\n",
        "\n",
        "Remember to type **dont** and **doesnt** instead of don't and doesn't."
      ],
      "metadata": {
        "id": "do3encIlR8FE"
      }
    },
    {
      "cell_type": "code",
      "source": [
        "cleanup()\n",
        "import ipywidgets as widgets\n",
        "from ipywidgets import Layout\n",
        "from IPython.display import display, HTML\n",
        "\n",
        "w_textbox = widgets.Text(\n",
        "    value='Tell me all',\n",
        "    placeholder='Enter a query',\n",
        "    description='Question:',\n",
        "    disabled=False,\n",
        "    layout=Layout(width='900px', height='50px')\n",
        ")\n",
        "ask_button = widgets.Button(\n",
        "    description='Ask',\n",
        "    button_style='info',\n",
        "    layout=Layout(margin='4px 0px 0px 90px')\n",
        ")\n",
        "cleanup_button = widgets.Button(\n",
        "    description='Reset Rules',\n",
        "    layout=Layout(margin='4px 0px 0px 5px')\n",
        ")\n",
        "w_out = widgets.Output(layout={'border': '1px solid black', 'margin': '10px', 'width':'1000px', 'word-break': 'break-all'})\n",
        "\n",
        "def clicked_cleanup(obj):\n",
        "    cleanup()\n",
        "\n",
        "def main(obj):\n",
        "    question = w_textbox.value\n",
        "    answer = query(question)\n",
        "    w_textbox.value = ''\n",
        "    with w_out:\n",
        "        print('?', question)\n",
        "        print(answer)\n",
        "\n",
        "# bind event handler to UI control\n",
        "ask_button.on_click(main)\n",
        "cleanup_button.on_click(clicked_cleanup)\n",
        "# render UI controls in a vertical box\n",
        "widgets.VBox([w_textbox, widgets.HBox([ask_button, cleanup_button]), w_out])"
      ],
      "metadata": {
        "colab": {
          "base_uri": "https://localhost:8080/",
          "height": 125,
          "referenced_widgets": [
            "5070f98726a64e1caf2e276b88e51ae7",
            "18a8c43f0f8f42528352caef88f87a73",
            "a04d9d4a63d94077924ff735f321ff80",
            "ef9abbf6cbbe48b19a311d8a924c375a",
            "39831568c3a84ab094adf72f23e66930",
            "4db43357f7834eff824a337f2f379e13",
            "088c119a243f432d9ef892e77a08052b",
            "bfc156e477f94f329d09f265154b2a14",
            "073f264e88a743dfbed4d87b9937c84a",
            "c2f50597bc1a416f80f8aa550da5df67",
            "2d93d3e2702b4b29b381b4d8a58d69d3",
            "f4603633f16c4955a4cdc4b0906e8d7d",
            "5a1fef12d7f94fb98dea07511faa3cae",
            "2692911d6bfb4b318585285b50eaedc7",
            "f455edeb8a034de59e48337e6aeedd65"
          ]
        },
        "id": "kw4W-N0hR-Fn",
        "outputId": "e3bbcdfe-0e77-4eb7-93c2-afd8c615329a"
      },
      "execution_count": 55,
      "outputs": [
        {
          "output_type": "display_data",
          "data": {
            "application/vnd.jupyter.widget-view+json": {
              "model_id": "5070f98726a64e1caf2e276b88e51ae7",
              "version_minor": 0,
              "version_major": 2
            },
            "text/plain": [
              "VBox(children=(Text(value='Tell me all', description='Question:', layout=Layout(height='50px', width='900px'),…"
            ]
          },
          "metadata": {}
        }
      ]
    },
    {
      "cell_type": "code",
      "source": [
        ""
      ],
      "metadata": {
        "id": "pcAqL5K8S1Ij"
      },
      "execution_count": null,
      "outputs": []
    }
  ]
}