{
  "nbformat": 4,
  "nbformat_minor": 0,
  "metadata": {
    "colab": {
      "name": "Testing Prolexa Plus Notebook.ipynb",
      "provenance": [],
      "collapsed_sections": [],
      "include_colab_link": true
    },
    "kernelspec": {
      "display_name": "Python 3",
      "name": "python3"
    },
    "language_info": {
      "name": "python"
    }
  },
  "cells": [
    {
      "cell_type": "markdown",
      "metadata": {
        "id": "view-in-github",
        "colab_type": "text"
      },
      "source": [
        "<a href=\"https://colab.research.google.com/github/isabelladegen/ComputationalLogic/blob/prolexa-plus/Testing_Prolexa_Plus_Notebook.ipynb\" target=\"_parent\"><img src=\"https://colab.research.google.com/assets/colab-badge.svg\" alt=\"Open In Colab\"/></a>"
      ]
    },
    {
      "cell_type": "markdown",
      "metadata": {
        "id": "i0vSCAwPAleW"
      },
      "source": [
        "#Testing Notebook - with prolexa plus\n",
        "Notebook that makes sure Prolexa continues to work\n"
      ]
    },
    {
      "cell_type": "markdown",
      "metadata": {
        "id": "hij-_4uHAzIj"
      },
      "source": [
        "### Installations like demo notebook\n"
      ]
    },
    {
      "cell_type": "code",
      "metadata": {
        "id": "HDY7hKs490UH",
        "colab": {
          "base_uri": "https://localhost:8080/"
        },
        "outputId": "751ed3f9-ca59-46c3-8d25-74c0bcc943b4"
      },
      "source": [
        "!apt-get install swi-prolog -qqq > /dev/null"
      ],
      "execution_count": 1,
      "outputs": [
        {
          "output_type": "stream",
          "name": "stdout",
          "text": [
            "Extracting templates from packages: 100%\n"
          ]
        }
      ]
    },
    {
      "cell_type": "markdown",
      "source": [
        "### Installing Prolexa\n",
        "Same error as on the branch on the forked branch https://github.com/simply-logical/ComputationalLogic/"
      ],
      "metadata": {
        "id": "XzTl4S4QtwnC"
      }
    },
    {
      "cell_type": "code",
      "metadata": {
        "id": "LGMiAYLm77DC",
        "colab": {
          "base_uri": "https://localhost:8080/"
        },
        "outputId": "0653cc8b-ed57-4539-e246-dbd27bb966d9"
      },
      "source": [
        "!yes | pip install git+https://github.com/isabelladegen/ComputationalLogic/ -qqq > /dev/null"
      ],
      "execution_count": 2,
      "outputs": [
        {
          "output_type": "stream",
          "name": "stdout",
          "text": [
            "\u001b[31m  ERROR: Failed building wheel for prolexa\u001b[0m\n",
            "\u001b[33m  DEPRECATION: prolexa was installed using the legacy 'setup.py install' method, because a wheel could not be built for it. A possible replacement is to fix the wheel build issue reported above. You can find discussion regarding this at https://github.com/pypa/pip/issues/8368.\u001b[0m\n",
            "\u001b[31mERROR: pip's dependency resolver does not currently take into account all the packages that are installed. This behaviour is the source of the following dependency conflicts.\n",
            "markdown 3.3.6 requires importlib-metadata>=4.4; python_version < \"3.10\", but you have importlib-metadata 3.10.1 which is incompatible.\n",
            "google-colab 1.0.0 requires requests~=2.23.0, but you have requests 2.26.0 which is incompatible.\n",
            "datascience 0.10.6 requires folium==0.2.1, but you have folium 0.8.3 which is incompatible.\u001b[0m\n"
          ]
        }
      ]
    },
    {
      "cell_type": "markdown",
      "metadata": {
        "id": "4Q1TuvlXBFpA"
      },
      "source": [
        "### Instantiate Prolexa \n"
      ]
    },
    {
      "cell_type": "code",
      "metadata": {
        "colab": {
          "base_uri": "https://localhost:8080/"
        },
        "id": "un81VxmqzUMx",
        "outputId": "41168a35-308f-4c30-c81d-9f3cd730b817"
      },
      "source": [
        "from pyswip import Prolog\n",
        "import prolexa.meta_grammar as meta\n",
        "\n",
        "pl = Prolog()\n",
        "meta.reset_grammar()\n",
        "meta.initialise_prolexa(pl)"
      ],
      "execution_count": 3,
      "outputs": [
        {
          "output_type": "stream",
          "name": "stdout",
          "text": [
            "2021-12-18 16:42:35,449 --------------------------------------------------------------------------------\n",
            "2021-12-18 16:42:35,457 The model key 'pos' now maps to 'https://huggingface.co/flair/pos-english' on the HuggingFace ModelHub\n",
            "2021-12-18 16:42:35,464  - The most current version of the model is automatically downloaded from there.\n",
            "2021-12-18 16:42:35,470  - (you can alternatively manually download the original model at https://nlp.informatik.hu-berlin.de/resources/models/pos/en-pos-ontonotes-v0.5.pt)\n",
            "2021-12-18 16:42:35,473 --------------------------------------------------------------------------------\n",
            "2021-12-18 16:42:35,876 loading file /root/.flair/models/pos-english/a9a73f6cd878edce8a0fa518db76f441f1cc49c2525b2b4557af278ec2f0659e.121306ea62993d04cd1978398b68396931a39eb47754c8a06a87f325ea70ac63\n"
          ]
        }
      ]
    },
    {
      "cell_type": "markdown",
      "source": [
        "###  Some Helper functions to make the tests easier to read"
      ],
      "metadata": {
        "id": "L2TcmLRB_CZB"
      }
    },
    {
      "cell_type": "code",
      "source": [
        "def query(input):\n",
        "  answer = meta.standardised_query(pl, input)[0]['Output']\n",
        "  if isinstance(answer, str):\n",
        "    return answer\n",
        "  return str(answer, 'utf-8')\n",
        "\n",
        "def test(input, expected_answer):\n",
        "  print(f'Query: {input}')\n",
        "  actual_answer = query(input)\n",
        "  assert actual_answer == expected_answer, 'Expected Answer:  ' + expected_answer + '\\n Actual answer: ' + actual_answer\n",
        "  print(f'Answer: {actual_answer}\\n')\n",
        "\n",
        "def cleanup():\n",
        "  print(query('forget everything'))\n",
        "  meta.reset_grammar()\n",
        "  meta.initialise_prolexa(pl)"
      ],
      "metadata": {
        "id": "biUdfuFgwwxd"
      },
      "execution_count": 4,
      "outputs": []
    },
    {
      "cell_type": "markdown",
      "metadata": {
        "id": "UsWtwSz2BX9l"
      },
      "source": [
        "### Testing existing functionality\n",
        "\n",
        "Syntax: `test(input_query, expected_answer)`\n",
        "\n",
        "Be careful not to add new nouns to Prolexa. The `forget all` method currently deletes all the rules about that noun but not the noun itself"
      ]
    },
    {
      "cell_type": "code",
      "metadata": {
        "id": "J-_HAtkIm19i",
        "colab": {
          "base_uri": "https://localhost:8080/"
        },
        "outputId": "35868881-ae1e-4b22-d034-20d3f9d51a7e"
      },
      "source": [
        "#run before so no unexpected knowledge is haning about\n",
        "cleanup()\n",
        "\n",
        "#Tell me about... queries\n",
        "print(\"Test 'Tell me about...' queries:\\n\")\n",
        "test('Tell me all', 'every human is mortal. peter is human. some birds fly. penguins dont fly. every penguin is a bird. opus is a penguin. peep is a bird') #extened with new rules added to prolexa\n",
        "test('tell me about unknownnoun', 'I heard you say,  tell me about unknownnoun , could you rephrase that please?')\n",
        "test('tell me about tweety', 'I know nothing about tweety')\n",
        "test('tell me about peter', 'peter is human. peter is mortal')\n",
        "\n",
        "#Is... queries\n",
        "print(\"\\nTest 'Is...' queries:\\n\")\n",
        "test('Is unkownnoun human', 'I heard you say,  Is unkownnoun human , could you rephrase that please?')\n",
        "test('Is tweety a bird', 'Sorry, I don\\'t think this is the case')\n",
        "test('Is peter mortal', 'peter is mortal')\n",
        "test('Is peter human', 'peter is human')\n",
        "test('Who is human', 'peter is human')\n",
        "test('Who is a bird', 'opus is a bird')\n",
        "test('Does tweety fly', 'Sorry, I don\\'t think this is the case')\n",
        "\n",
        "#Explain... queries\n",
        "print(\"\\nTest 'Is...' queries:\\n\")\n",
        "test('Explain why unknownnoun is mortal', 'I heard you say,  Explain why unknownnoun is mortal , could you rephrase that please?')\n",
        "test('Explain why tweety is a bird','Sorry, I don\\'t think this is the case')\n",
        "test('Explain why peter is mortal', 'peter is human; every human is mortal; therefore peter is mortal')\n",
        "\n",
        "#Adding new rules and forgeting rules\n",
        "print(\"\\nTest adding new rules:\\n\")\n",
        "test('Peter is mortal', 'I already knew that Peter is mortal')\n",
        "\n",
        "#add a rule and forget it again\n",
        "test('Tweety is a bird', 'I will remember that Tweety is a bird')\n",
        "test('Is tweety a bird', 'tweety is a bird')\n",
        "test('all birds tweet', 'I will remember that all birds tweet')\n",
        "test('Does tweety tweet', 'tweety tweets')\n",
        "test('Explain why tweety tweets', 'tweety is a bird; every bird is a tweet; therefore tweety is a tweet') #TODO notice the really odd transaltion <a tweet>, the comandline does not do this\n",
        "test('Tell me all about tweety', 'tweety is a bird. tweety flies. tweety is a tweet. tweety is a bird. tweety flies') #TODO notice the duplication in answers!!!\n",
        "test('Forget that tweety is a bird', 'I erased it from my memory')\n",
        "test('tell me all about tweety', 'I know nothing about tweety')\n",
        "test('Is tweety a bird', 'Sorry, I don\\'t think this is the case')\n",
        "test('Does tweety fly', 'Sorry, I don\\'t think this is the case')\n",
        "\n",
        "\n",
        "#run after so no unexpected knowledge is haning about for next cells\n",
        "cleanup()\n"
      ],
      "execution_count": 5,
      "outputs": [
        {
          "output_type": "stream",
          "name": "stdout",
          "text": [
            "I am a blank slate\n",
            "Test 'Tell me about...' queries:\n",
            "\n",
            "Query: Tell me all\n",
            "Answer: every human is mortal. peter is human. some birds fly. penguins dont fly. every penguin is a bird. opus is a penguin. peep is a bird\n",
            "\n",
            "Query: tell me about unknownnoun\n",
            "Answer: I heard you say,  tell me about unknownnoun , could you rephrase that please?\n",
            "\n",
            "Query: tell me about tweety\n",
            "Answer: I know nothing about tweety\n",
            "\n",
            "Query: tell me about peter\n",
            "Answer: peter is human. peter is mortal\n",
            "\n",
            "\n",
            "Test 'Is...' queries:\n",
            "\n",
            "Query: Is unkownnoun human\n",
            "Answer: I heard you say,  Is unkownnoun human , could you rephrase that please?\n",
            "\n",
            "Query: Is tweety a bird\n",
            "Answer: Sorry, I don't think this is the case\n",
            "\n",
            "Query: Is peter mortal\n",
            "Answer: peter is mortal\n",
            "\n",
            "Query: Is peter human\n",
            "Answer: peter is human\n",
            "\n",
            "Query: Who is human\n",
            "Answer: peter is human\n",
            "\n",
            "Query: Who is a bird\n",
            "Answer: opus is a bird\n",
            "\n",
            "Query: Does tweety fly\n",
            "Answer: Sorry, I don't think this is the case\n",
            "\n",
            "\n",
            "Test 'Is...' queries:\n",
            "\n",
            "Query: Explain why unknownnoun is mortal\n",
            "Answer: I heard you say,  Explain why unknownnoun is mortal , could you rephrase that please?\n",
            "\n",
            "Query: Explain why tweety is a bird\n",
            "Answer: Sorry, I don't think this is the case\n",
            "\n",
            "Query: Explain why peter is mortal\n",
            "Answer: peter is human; every human is mortal; therefore peter is mortal\n",
            "\n",
            "\n",
            "Test adding new rules:\n",
            "\n",
            "Query: Peter is mortal\n",
            "Answer: I already knew that Peter is mortal\n",
            "\n",
            "Query: Tweety is a bird\n",
            "Answer: I will remember that Tweety is a bird\n",
            "\n",
            "Query: Is tweety a bird\n",
            "Answer: tweety is a bird\n",
            "\n",
            "Query: all birds tweet\n",
            "Answer: I will remember that all birds tweet\n",
            "\n",
            "Query: Does tweety tweet\n",
            "Answer: tweety tweets\n",
            "\n",
            "Query: Explain why tweety tweets\n",
            "Answer: tweety is a bird; every bird is a tweet; therefore tweety is a tweet\n",
            "\n",
            "Query: Tell me all about tweety\n",
            "Answer: tweety is a bird. tweety flies. tweety is a tweet. tweety is a bird. tweety flies\n",
            "\n",
            "Query: Forget that tweety is a bird\n",
            "Answer: I erased it from my memory\n",
            "\n",
            "Query: tell me all about tweety\n",
            "Answer: I know nothing about tweety\n",
            "\n",
            "Query: Is tweety a bird\n",
            "Answer: Sorry, I don't think this is the case\n",
            "\n",
            "Query: Does tweety fly\n",
            "Answer: Sorry, I don't think this is the case\n",
            "\n",
            "I am a blank slate\n"
          ]
        }
      ]
    },
    {
      "cell_type": "markdown",
      "source": [
        "# Testing new functionality\n"
      ],
      "metadata": {
        "id": "VV4uPEzaUhL-"
      }
    },
    {
      "cell_type": "markdown",
      "source": [
        "### Default Reasoning"
      ],
      "metadata": {
        "id": "gTzFjICoUqgb"
      }
    },
    {
      "cell_type": "code",
      "source": [
        "cleanup()\n",
        "#Testing new rules\n",
        "test('Tell me about opus', 'opus is a bird. opus is a penguin. opus doesnt fly')\n",
        "test('Tell me about peep', 'peep is a bird. peep flies')\n",
        "test('Is opus a bird', 'opus is a bird')\n",
        "test('Is peep a bird', 'peep is a bird')\n",
        "test('Is opus a penguin', 'opus is a penguin')\n",
        "test('Is peep a penguin', 'Sorry, I don\\'t think this is the case')\n",
        "\n",
        "#Tweety is not defined as a bird so\n",
        "test('Explain why tweety flies', 'Sorry, I don\\'t think this is the case')\n",
        "cleanup()\n",
        "test('Explain why peep flies', 'peep is a bird; some birds are flys; therefore peep is a fly') #notice the peep is a fly -> again this does not happen on prolexa just with prolexa_plus\n",
        "\n",
        "\n",
        "#Notice that 'penguins arent flys' which does work on the comandline -> prolexa plus seems to do something weird with verbs and adjectives and nouns\n",
        "#test('Spill the beans', 'every human is mortal. peter is human. penguins arent flys. every bird is a fly. every penguin is a bird. opus is a penguin. peep is a bird')\n",
        "cleanup()\n"
      ],
      "metadata": {
        "colab": {
          "base_uri": "https://localhost:8080/"
        },
        "id": "UuSpkOQFHfO3",
        "outputId": "f00d75b5-7cea-4b37-da3f-715c8c09e093"
      },
      "execution_count": 6,
      "outputs": [
        {
          "output_type": "stream",
          "name": "stdout",
          "text": [
            "I am a blank slate\n",
            "Query: Tell me about opus\n",
            "Answer: opus is a bird. opus is a penguin. opus doesnt fly\n",
            "\n",
            "Query: Tell me about peep\n",
            "Answer: peep is a bird. peep flies\n",
            "\n",
            "Query: Is opus a bird\n",
            "Answer: opus is a bird\n",
            "\n",
            "Query: Is peep a bird\n",
            "Answer: peep is a bird\n",
            "\n",
            "Query: Is opus a penguin\n",
            "Answer: opus is a penguin\n",
            "\n",
            "Query: Is peep a penguin\n",
            "Answer: Sorry, I don't think this is the case\n",
            "\n",
            "Query: Explain why tweety flies\n",
            "Answer: Sorry, I don't think this is the case\n",
            "\n",
            "I am a blank slate\n",
            "Query: Explain why peep flies\n",
            "Answer: peep is a bird; some birds are flys; therefore peep is a fly\n",
            "\n",
            "I am a blank slate\n"
          ]
        }
      ]
    },
    {
      "cell_type": "markdown",
      "source": [
        "# Debugging what's going on with Prolexa Plus grammar"
      ],
      "metadata": {
        "id": "HhkZL0YDc93U"
      }
    },
    {
      "cell_type": "markdown",
      "source": [
        "Some helper methods"
      ],
      "metadata": {
        "id": "4XeRBLFQdYtF"
      }
    },
    {
      "cell_type": "code",
      "source": [
        "def string_diff(string1, string2):\n",
        "  splitA = set(string1)\n",
        "  splitB = set(string2)\n",
        "\n",
        "  diff = splitB.difference(splitA)\n",
        "  diff = \", \".join(diff)\n",
        "  return diff\n",
        "\n",
        "def grammar_difference():\n",
        "  prolog_grammar = meta.get_prolog_grammar(meta.PROLOG_PATH, 'prolexa_grammar.pl')\n",
        "  knowledge_store = meta.get_prolog_grammar(meta.PACKAGE_PATH, 'knowledge_store.pl')\n",
        "  return string_diff(prolog_grammar, knowledge_store)\n",
        "\n",
        "def show_grammer_difference_for_query(input):\n",
        "  print(f'Query: {input}')\n",
        "  actualAnswer = query(input)\n",
        "  print(f'Answer: {actualAnswer}\\n')\n",
        "  grDiff = grammar_difference()\n",
        "  if grDiff != '':\n",
        "    print(f'Grammar additions: {grDiff}')\n",
        "\n",
        "def cleanup_grammar_changes():\n",
        "  meta.reset_grammar()\n",
        "  diffs = grammar_difference()\n",
        "  assert diffs == '', 'Grammar differences: ' + diffs"
      ],
      "metadata": {
        "id": "uaHdoiI3hEX4"
      },
      "execution_count": 19,
      "outputs": []
    },
    {
      "cell_type": "code",
      "source": [
        "show_grammer_difference_for_query('Tell me all')\n",
        "cleanup_grammar_changes()\n",
        "\n",
        "show_grammer_difference_for_query('Tell me about unknownnoun')\n",
        "cleanup_grammar_changes()\n",
        "\n",
        "show_grammer_difference_for_query('Tell me about peter')\n",
        "cleanup_grammar_changes()\n",
        "\n",
        "show_grammer_difference_for_query('Is peter mortal')\n",
        "cleanup_grammar_changes()\n",
        "\n",
        "show_grammer_difference_for_query('Who is human')\n",
        "cleanup_grammar_changes()\n",
        "\n",
        "show_grammer_difference_for_query('Does tweety fly')\n",
        "cleanup_grammar_changes()\n",
        "\n",
        "show_grammer_difference_for_query('Explain why peter is mortal')\n",
        "cleanup_grammar_changes()\n",
        "\n",
        "show_grammer_difference_for_query('Peter is mortal')\n",
        "cleanup_grammar_changes()\n",
        "\n",
        "show_grammer_difference_for_query('Ronja is a spaniel')\n",
        "cleanup_grammar_changes()\n",
        "\n",
        "show_grammer_difference_for_query('Tweety is a bird')\n",
        "show_grammer_difference_for_query('Is tweety a bird')\n",
        "show_grammer_difference_for_query('All birds tweet')\n",
        "show_grammer_difference_for_query('Does tweety tweet')\n",
        "show_grammer_difference_for_query('Explain why tweety tweets')\n",
        "show_grammer_difference_for_query('Tell me all about tweety')\n",
        "show_grammer_difference_for_query('Forget that tweety is a bird')\n",
        "cleanup_grammar_changes()"
      ],
      "metadata": {
        "colab": {
          "base_uri": "https://localhost:8080/"
        },
        "id": "H7O5_GUxeVM6",
        "outputId": "19d25b48-af12-4848-deab-a3578f8a7e8e"
      },
      "execution_count": 20,
      "outputs": [
        {
          "output_type": "stream",
          "name": "stdout",
          "text": [
            "Query: Tell me all\n",
            "Answer: every human is mortal. peter is human. some birds fly. penguins dont fly. every penguin is a bird. opus is a penguin. peep is a bird. every bird flies\n",
            "\n",
            "Grammar additions: pred(tell, 1,[v/tell]).\n",
            "\n",
            "Query: Tell me about unknownnoun\n",
            "Answer: I heard you say,  Tell me about unknownnoun , could you rephrase that please?\n",
            "\n",
            "Grammar additions: pred(tell, 1,[v/tell]).\n",
            ", pred(unknownnoun, 1,[n/unknownnoun]).\n",
            "\n",
            "Query: Tell me about peter\n",
            "Answer: peter is human. peter is mortal\n",
            "\n",
            "Grammar additions: pred(tell, 1,[v/tell]).\n",
            ", pred(peter, 1,[n/peter]).\n",
            "\n",
            "Query: Is peter mortal\n",
            "Answer: peter is mortal\n",
            "\n",
            "Grammar additions: pred(peter, 1,[n/peter]).\n",
            ", pred(is, 1,[v/is]).\n",
            "\n",
            "Query: Who is human\n",
            "Answer: peter is human\n",
            "\n",
            "Grammar additions: pred(is, 1,[v/is]).\n",
            "\n",
            "Query: Does tweety fly\n",
            "Answer: Sorry, I don't think this is the case\n",
            "\n",
            "Grammar additions: pred(fly, 1,[v/fly]).\n",
            ", pred(tweety, 1,[n/tweety]).\n",
            ", pred(doe, 1,[v/doe]).\n",
            "\n",
            "Query: Explain why peter is mortal\n",
            "Answer: peter is human; every human is mortal; therefore peter is mortal\n",
            "\n",
            "Grammar additions: pred(explain, 1,[v/explain]).\n",
            ", pred(peter, 1,[n/peter]).\n",
            ", pred(is, 1,[v/is]).\n",
            "\n",
            "Query: Peter is mortal\n",
            "Answer: I already knew that Peter is mortal\n",
            "\n",
            "Grammar additions: pred(is, 1,[v/is]).\n",
            "\n",
            "Query: Ronja is a spaniel\n",
            "Answer: I will remember that Ronja is a spaniel\n",
            "\n",
            "Grammar additions: pred(spaniel, 1,[n/spaniel]).\n",
            ", pred(is, 1,[v/is]).\n",
            ", proper_noun(s,ronja) --> [ronja].\n",
            "\n",
            "Query: Tweety is a bird\n",
            "Answer: I will remember that Tweety is a bird\n",
            "\n",
            "Grammar additions: pred(bird, 1,[n/bird]).\n",
            ", pred(is, 1,[v/is]).\n",
            "\n",
            "Query: Is tweety a bird\n",
            "Answer: tweety is a bird\n",
            "\n",
            "Grammar additions: pred(bird, 1,[n/bird]).\n",
            ", pred(is, 1,[v/is]).\n",
            ", pred(tweety, 1,[a/tweety]).\n",
            "\n",
            "Query: All birds tweet\n",
            "Answer: I will remember that All birds tweet\n",
            "\n",
            "Grammar additions: pred(bird, 1,[n/bird]).\n",
            ", pred(is, 1,[v/is]).\n",
            ", pred(tweet, 1,[v/tweet]).\n",
            ", pred(tweety, 1,[a/tweety]).\n",
            "\n",
            "Query: Does tweety tweet\n",
            "Answer: tweety tweets\n",
            "\n",
            "Grammar additions: pred(doe, 1,[v/doe]).\n",
            ", pred(tweet, 1,[v/tweet]).\n",
            ", pred(bird, 1,[n/bird]).\n",
            ", pred(is, 1,[v/is]).\n",
            ", pred(tweety, 1,[a/tweety,n/tweety]).\n",
            "\n",
            "Query: Explain why tweety tweets\n",
            "Answer: tweety is a bird; every bird is a tweet; therefore tweety is a tweet\n",
            "\n",
            "Grammar additions: pred(tweet, 1,[v/tweet,n/tweet]).\n",
            ", pred(doe, 1,[v/doe]).\n",
            ", pred(bird, 1,[n/bird]).\n",
            ", pred(is, 1,[v/is]).\n",
            ", pred(tweety, 1,[a/tweety,n/tweety]).\n",
            ", pred(explain, 1,[v/explain]).\n",
            "\n",
            "Query: Tell me all about tweety\n",
            "Answer: tweety is a bird. tweety is a tweet. tweety is a bird. tweety flies\n",
            "\n",
            "Grammar additions: pred(tell, 1,[v/tell]).\n",
            ", pred(doe, 1,[v/doe]).\n",
            ", pred(tweet, 1,[v/tweet,n/tweet]).\n",
            ", pred(bird, 1,[n/bird]).\n",
            ", pred(is, 1,[v/is]).\n",
            ", pred(tweety, 1,[a/tweety,n/tweety]).\n",
            ", pred(explain, 1,[v/explain]).\n",
            "\n",
            "Query: Forget that tweety is a bird\n",
            "Answer: I erased it from my memory\n",
            "\n",
            "Grammar additions: pred(tell, 1,[v/tell]).\n",
            ", pred(doe, 1,[v/doe]).\n",
            ", pred(tweet, 1,[v/tweet,n/tweet]).\n",
            ", pred(bird, 1,[n/bird]).\n",
            ", pred(is, 1,[v/is]).\n",
            ", pred(tweety, 1,[a/tweety,n/tweety]).\n",
            ", pred(explain, 1,[v/explain]).\n",
            ", pred(forget, 1,[v/forget]).\n",
            "\n"
          ]
        }
      ]
    },
    {
      "cell_type": "code",
      "source": [
        ""
      ],
      "metadata": {
        "id": "u37qNoP8gazY"
      },
      "execution_count": null,
      "outputs": []
    }
  ]
}